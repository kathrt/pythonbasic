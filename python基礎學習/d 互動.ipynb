{
 "cells": [
  {
   "cell_type": "markdown",
   "id": "def6b097",
   "metadata": {},
   "source": [
    "###### from ipywidgets import interact  \n",
    " - 數值滑桿\n",
    " - 文字輸入框"
   ]
  },
  {
   "cell_type": "markdown",
   "id": "8b44edb2",
   "metadata": {},
   "source": [
    "###### INTERACT"
   ]
  },
  {
   "cell_type": "code",
   "execution_count": 18,
   "id": "69fe8a43",
   "metadata": {},
   "outputs": [],
   "source": [
    "%matplotlib inline\n",
    "import numpy as np\n",
    "import matplotlib as plt"
   ]
  },
  {
   "cell_type": "code",
   "execution_count": 27,
   "id": "2f7302fa",
   "metadata": {},
   "outputs": [],
   "source": [
    "from ipywidgets import interact"
   ]
  },
  {
   "cell_type": "code",
   "execution_count": 28,
   "id": "a1cef21c",
   "metadata": {},
   "outputs": [],
   "source": [
    "def f(x):\n",
    "    print(x)"
   ]
  },
  {
   "cell_type": "code",
   "execution_count": 29,
   "id": "6c90d726",
   "metadata": {},
   "outputs": [
    {
     "name": "stdout",
     "output_type": "stream",
     "text": [
      "3\n"
     ]
    }
   ],
   "source": [
    "f(3)"
   ]
  },
  {
   "cell_type": "code",
   "execution_count": 30,
   "id": "b5170405",
   "metadata": {},
   "outputs": [
    {
     "name": "stdout",
     "output_type": "stream",
     "text": [
      "hello world\n"
     ]
    }
   ],
   "source": [
    "f('hello world')"
   ]
  },
  {
   "cell_type": "code",
   "execution_count": 31,
   "id": "0f2997be",
   "metadata": {},
   "outputs": [
    {
     "data": {
      "application/vnd.jupyter.widget-view+json": {
       "model_id": "0e3536c238904fc594a35b7d008cf6b5",
       "version_major": 2,
       "version_minor": 0
      },
      "text/plain": [
       "interactive(children=(IntSlider(value=3, description='x', max=9, min=-3), Output()), _dom_classes=('widget-int…"
      ]
     },
     "metadata": {},
     "output_type": "display_data"
    },
    {
     "data": {
      "text/plain": [
       "<function __main__.f(x)>"
      ]
     },
     "execution_count": 31,
     "metadata": {},
     "output_type": "execute_result"
    }
   ],
   "source": [
    "interact(f,x=3)"
   ]
  },
  {
   "cell_type": "code",
   "execution_count": 32,
   "id": "f0603eb5",
   "metadata": {},
   "outputs": [
    {
     "data": {
      "application/vnd.jupyter.widget-view+json": {
       "model_id": "3cd0b61d7b0b427d94677f91d5edc749",
       "version_major": 2,
       "version_minor": 0
      },
      "text/plain": [
       "interactive(children=(FloatSlider(value=5.5, description='x', max=10.0, min=1.0), Output()), _dom_classes=('wi…"
      ]
     },
     "metadata": {},
     "output_type": "display_data"
    },
    {
     "data": {
      "text/plain": [
       "<function __main__.f(x)>"
      ]
     },
     "execution_count": 32,
     "metadata": {},
     "output_type": "execute_result"
    }
   ],
   "source": [
    "interact(f,x=(1.,10.))"
   ]
  },
  {
   "cell_type": "code",
   "execution_count": 33,
   "id": "7c54a018",
   "metadata": {},
   "outputs": [
    {
     "data": {
      "application/vnd.jupyter.widget-view+json": {
       "model_id": "2e4575e7bffc433ca667526740b3bad9",
       "version_major": 2,
       "version_minor": 0
      },
      "text/plain": [
       "interactive(children=(Text(value='hi', description='x'), Output()), _dom_classes=('widget-interact',))"
      ]
     },
     "metadata": {},
     "output_type": "display_data"
    },
    {
     "data": {
      "text/plain": [
       "<function __main__.f(x)>"
      ]
     },
     "execution_count": 33,
     "metadata": {},
     "output_type": "execute_result"
    }
   ],
   "source": [
    "interact(f,x='hi')"
   ]
  },
  {
   "cell_type": "code",
   "execution_count": 34,
   "id": "b5640b93",
   "metadata": {},
   "outputs": [
    {
     "data": {
      "application/vnd.jupyter.widget-view+json": {
       "model_id": "475c3cd665bf4c0e8d01ec16c32c94e3",
       "version_major": 2,
       "version_minor": 0
      },
      "text/plain": [
       "interactive(children=(Dropdown(description='x', options=('小陽', '慧蓉', '宗保', '心美', '多喜', '恩典'), value='小陽'), Out…"
      ]
     },
     "metadata": {},
     "output_type": "display_data"
    },
    {
     "data": {
      "text/plain": [
       "<function __main__.f(x)>"
      ]
     },
     "execution_count": 34,
     "metadata": {},
     "output_type": "execute_result"
    }
   ],
   "source": [
    "interact(f,x=['小陽','慧蓉','宗保','心美','多喜','恩典'])"
   ]
  },
  {
   "cell_type": "code",
   "execution_count": 35,
   "id": "b4e5c78d",
   "metadata": {},
   "outputs": [
    {
     "data": {
      "application/vnd.jupyter.widget-view+json": {
       "model_id": "b4849c0a5fe34fc9b048a78253000968",
       "version_major": 2,
       "version_minor": 0
      },
      "text/plain": [
       "interactive(children=(Dropdown(description='x', options={'小陽': 1, '慧蓉': 2, '宗保': 3, '心美': 4, '多喜': 5, '恩典': 6}…"
      ]
     },
     "metadata": {},
     "output_type": "display_data"
    },
    {
     "data": {
      "text/plain": [
       "<function __main__.f(x)>"
      ]
     },
     "execution_count": 35,
     "metadata": {},
     "output_type": "execute_result"
    }
   ],
   "source": [
    "interact(f,x={'小陽':1,'慧蓉':2,'宗保':3,'心美':4,'多喜':5,'恩典':6})"
   ]
  },
  {
   "cell_type": "markdown",
   "id": "f85c51e1",
   "metadata": {},
   "source": [
    "###### 函數動作互動"
   ]
  },
  {
   "cell_type": "code",
   "execution_count": 36,
   "id": "17fc562e",
   "metadata": {},
   "outputs": [],
   "source": [
    "%matplotlib inline\n",
    "import numpy as np\n",
    "import matplotlib.pyplot as plt"
   ]
  },
  {
   "cell_type": "code",
   "execution_count": 37,
   "id": "e142b1bd",
   "metadata": {},
   "outputs": [],
   "source": [
    "from ipywidgets import interact"
   ]
  },
  {
   "cell_type": "code",
   "execution_count": 38,
   "id": "48dee87b",
   "metadata": {},
   "outputs": [],
   "source": [
    "def move(n):\n",
    "    print(' '*n + 'oooo')"
   ]
  },
  {
   "cell_type": "code",
   "execution_count": 40,
   "id": "98a20405",
   "metadata": {},
   "outputs": [
    {
     "data": {
      "application/vnd.jupyter.widget-view+json": {
       "model_id": "88f37f202b4943118411e305dbbc62bd",
       "version_major": 2,
       "version_minor": 0
      },
      "text/plain": [
       "interactive(children=(IntSlider(value=50, description='n', min=1), Output()), _dom_classes=('widget-interact',…"
      ]
     },
     "metadata": {},
     "output_type": "display_data"
    },
    {
     "data": {
      "text/plain": [
       "<function __main__.move(n)>"
      ]
     },
     "execution_count": 40,
     "metadata": {},
     "output_type": "execute_result"
    }
   ],
   "source": [
    "interact(move,n=(1,100))"
   ]
  },
  {
   "cell_type": "markdown",
   "id": "39b8c461",
   "metadata": {},
   "source": [
    "###### 圖形互動"
   ]
  },
  {
   "cell_type": "code",
   "execution_count": 41,
   "id": "2e4cba34",
   "metadata": {},
   "outputs": [],
   "source": [
    "%matplotlib inline\n",
    "import numpy as np\n",
    "import matplotlib.pyplot as plt\n",
    "from ipywidgets import interact"
   ]
  },
  {
   "cell_type": "code",
   "execution_count": 42,
   "id": "a3c7aeee",
   "metadata": {},
   "outputs": [],
   "source": [
    "x = np.linspace(0,2*np.pi,1000)"
   ]
  },
  {
   "cell_type": "code",
   "execution_count": 43,
   "id": "816de3fe",
   "metadata": {},
   "outputs": [],
   "source": [
    "def draw(n):\n",
    "    y = np.sin(n*x)\n",
    "    plt.plot(x,y,lw=3)\n",
    "    plt.show()"
   ]
  },
  {
   "cell_type": "code",
   "execution_count": 44,
   "id": "2d56c9f3",
   "metadata": {},
   "outputs": [
    {
     "data": {
      "application/vnd.jupyter.widget-view+json": {
       "model_id": "84a3993cb6d643e7b22016b98d4d9ab1",
       "version_major": 2,
       "version_minor": 0
      },
      "text/plain": [
       "interactive(children=(FloatSlider(value=10.5, description='n', max=20.0, min=1.0), Output()), _dom_classes=('w…"
      ]
     },
     "metadata": {},
     "output_type": "display_data"
    },
    {
     "data": {
      "text/plain": [
       "<function __main__.draw(n)>"
      ]
     },
     "execution_count": 44,
     "metadata": {},
     "output_type": "execute_result"
    }
   ],
   "source": [
    "interact(draw,n=(1.,20.))"
   ]
  },
  {
   "cell_type": "markdown",
   "id": "712cd0ff",
   "metadata": {},
   "source": [
    "###### 字典格式  \n",
    "字典名字 ＝ {物件 : 對應的物件}"
   ]
  },
  {
   "cell_type": "code",
   "execution_count": 20,
   "id": "3bbbc1b4",
   "metadata": {},
   "outputs": [],
   "source": [
    "%matplotlib inline\n",
    "import numpy as np\n",
    "import matplotlib.pyplot as plt"
   ]
  },
  {
   "cell_type": "code",
   "execution_count": 21,
   "id": "008fe5fb",
   "metadata": {},
   "outputs": [],
   "source": [
    "mydict = {'apple' : '蘋果','banana':'香蕉'}"
   ]
  },
  {
   "cell_type": "code",
   "execution_count": 22,
   "id": "3b3afd11",
   "metadata": {},
   "outputs": [
    {
     "data": {
      "text/plain": [
       "{'apple': '蘋果', 'banana': '香蕉'}"
      ]
     },
     "execution_count": 22,
     "metadata": {},
     "output_type": "execute_result"
    }
   ],
   "source": [
    "mydict"
   ]
  },
  {
   "cell_type": "code",
   "execution_count": 23,
   "id": "c3b1c240",
   "metadata": {},
   "outputs": [
    {
     "data": {
      "text/plain": [
       "'蘋果'"
      ]
     },
     "execution_count": 23,
     "metadata": {},
     "output_type": "execute_result"
    }
   ],
   "source": [
    "mydict['apple']"
   ]
  },
  {
   "cell_type": "markdown",
   "id": "960289e0",
   "metadata": {},
   "source": [
    "字典加字"
   ]
  },
  {
   "cell_type": "code",
   "execution_count": 24,
   "id": "967f3a87",
   "metadata": {},
   "outputs": [],
   "source": [
    "mydict['orange'] = '柳橙'"
   ]
  },
  {
   "cell_type": "code",
   "execution_count": 25,
   "id": "ed2c5560",
   "metadata": {},
   "outputs": [
    {
     "data": {
      "text/plain": [
       "{'apple': '蘋果', 'banana': '香蕉', 'orange': '柳橙'}"
      ]
     },
     "execution_count": 25,
     "metadata": {},
     "output_type": "execute_result"
    }
   ],
   "source": [
    "mydict"
   ]
  },
  {
   "cell_type": "markdown",
   "id": "6f221b57",
   "metadata": {},
   "source": [
    "利用 for 迴圈"
   ]
  },
  {
   "cell_type": "code",
   "execution_count": 26,
   "id": "83ffbe5e",
   "metadata": {},
   "outputs": [
    {
     "name": "stdout",
     "output_type": "stream",
     "text": [
      "apple:蘋果\n",
      "banana:香蕉\n",
      "orange:柳橙\n"
     ]
    }
   ],
   "source": [
    "for key in mydict:\n",
    "    print('{}:{}'.format(key,mydict[key]))"
   ]
  },
  {
   "cell_type": "markdown",
   "id": "bbc40f20",
   "metadata": {},
   "source": [
    "###### interact 互動\n",
    " - 數字&rarr;滑桿\n",
    " - 字串&rarr;輸入框\n",
    " - List&rarr;選單\n",
    " - 字典&rarr;對應值的選單"
   ]
  },
  {
   "cell_type": "markdown",
   "id": "1edfe54d",
   "metadata": {},
   "source": [
    "###### INTERACT_manual"
   ]
  },
  {
   "cell_type": "code",
   "execution_count": 66,
   "id": "ff54a195",
   "metadata": {},
   "outputs": [],
   "source": [
    "%matplotlib inline\n",
    "import numpy as np\n",
    "import matplotlib.pyplot as plt\n",
    "from ipywidgets import interact_manual"
   ]
  },
  {
   "cell_type": "code",
   "execution_count": 67,
   "id": "6ccf5aa3",
   "metadata": {},
   "outputs": [
    {
     "data": {
      "text/plain": [
       "<matplotlib.collections.PathCollection at 0x7fa5b78cc760>"
      ]
     },
     "execution_count": 67,
     "metadata": {},
     "output_type": "execute_result"
    },
    {
     "data": {
      "image/png": "[encoded data removed]",
      "text/plain": [
       "<Figure size 432x288 with 1 Axes>"
      ]
     },
     "metadata": {
      "needs_background": "light"
     },
     "output_type": "display_data"
    }
   ],
   "source": [
    "X = np.random.rand(6)\n",
    "Y = np.random.rand(6)\n",
    "plt.scatter(X,Y,s = 100,c = 'r')"
   ]
  },
  {
   "cell_type": "code",
   "execution_count": 68,
   "id": "d74e6c30",
   "metadata": {},
   "outputs": [],
   "source": [
    "x = np.linspace(0,1,1000)"
   ]
  },
  {
   "cell_type": "code",
   "execution_count": 70,
   "id": "54bd5bd9",
   "metadata": {},
   "outputs": [],
   "source": [
    "def draw(n):\n",
    "    plt.scatter(X,Y,s = 100,c = 'r')\n",
    "    y = 0.5*np.sin(n*x*2*np.pi) + 0.5\n",
    "    plt.plot(x,y)\n",
    "    plt.show()"
   ]
  },
  {
   "cell_type": "code",
   "execution_count": 65,
   "id": "8c690270",
   "metadata": {},
   "outputs": [
    {
     "data": {
      "application/vnd.jupyter.widget-view+json": {
       "model_id": "ced187505236444ab992f52959447025",
       "version_major": 2,
       "version_minor": 0
      },
      "text/plain": [
       "interactive(children=(FloatSlider(value=100.5, description='n', max=200.0, min=1.0), Button(description='Run I…"
      ]
     },
     "metadata": {},
     "output_type": "display_data"
    },
    {
     "data": {
      "text/plain": [
       "<function __main__.draw(n)>"
      ]
     },
     "execution_count": 65,
     "metadata": {},
     "output_type": "execute_result"
    }
   ],
   "source": [
    "interact_manual(draw,n=(1.,200.))"
   ]
  },
  {
   "cell_type": "code",
   "execution_count": 74,
   "id": "6a0cf951",
   "metadata": {},
   "outputs": [],
   "source": [
    "def BMIcal(身高,體重):\n",
    "    身高 = float(身高)/100\n",
    "    體重 = float(體重)\n",
    "    bmi = 體重/(身高**2)\n",
    "    print('泥的BMI是{:.2f}'.format(bmi)) #  :2f是小數點第二位的浮點數"
   ]
  },
  {
   "cell_type": "code",
   "execution_count": 73,
   "id": "ce61b337",
   "metadata": {},
   "outputs": [
    {
     "data": {
      "application/vnd.jupyter.widget-view+json": {
       "model_id": "94d20817d52c49da9522de312735b048",
       "version_major": 2,
       "version_minor": 0
      },
      "text/plain": [
       "interactive(children=(Text(value='輸入身高', description='身高'), Text(value='輸入體重', description='體重'), Button(descr…"
      ]
     },
     "metadata": {},
     "output_type": "display_data"
    },
    {
     "data": {
      "text/plain": [
       "<function __main__.BMIcal(身高, 體重)>"
      ]
     },
     "execution_count": 73,
     "metadata": {},
     "output_type": "execute_result"
    }
   ],
   "source": [
    "interact_manual(BMIcal,身高='輸入身高',體重='輸入體重')"
   ]
  }
 ],
 "metadata": {
  "kernelspec": {
   "display_name": "Python 3",
   "language": "python",
   "name": "python3"
  },
  "language_info": {
   "codemirror_mode": {
    "name": "ipython",
    "version": 3
   },
   "file_extension": ".py",
   "mimetype": "text/x-python",
   "name": "python",
   "nbconvert_exporter": "python",
   "pygments_lexer": "ipython3",
   "version": "3.8.8"
  }
 },
 "nbformat": 4,
 "nbformat_minor": 5
}
