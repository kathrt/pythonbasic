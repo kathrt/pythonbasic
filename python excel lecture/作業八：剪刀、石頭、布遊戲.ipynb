{
 "cells": [
  {
   "cell_type": "markdown",
   "metadata": {},
   "source": [
    "# HW8：剪刀、石頭、布遊戲\n",
    "\n",
    "![](https://drive.google.com/uc?export=download&id=1QQU8p6XTixh8Z36iOBf1EYfw4LC1yiKy)\n",
    "\n",
    "# 範例程式碼：\n",
    "\n",
    "```python\n",
    "print(\"歡迎來到剪刀石頭布！ \")\n",
    "name = input(\"請輸入您的名稱：\")\n",
    "\n",
    "user_hand = int(input((\"請出拳： (1) 剪刀 (2) 石頭 (3) 布：\"))\n",
    "# 把剩下的判斷輸贏寫完...\n",
    "```\n",
    "\n",
    "\n",
    "# 挑戰\n",
    "\n",
    "要如何能夠實作出讓電腦自動出拳的功能？\n",
    "\n",
    "\n",
    "\n",
    "# 隨機數 (Random)\n",
    "```python\n",
    "# 匯入 random 模組的功能\n",
    "import random\n",
    "# 隨機回傳範圍 1 到 3 之間的某個整數\n",
    "print(random.randint(1,3))\n",
    "```"
   ]
  },
  {
   "cell_type": "code",
   "execution_count": 1,
   "metadata": {},
   "outputs": [],
   "source": [
    "import random"
   ]
  },
  {
   "cell_type": "code",
   "execution_count": 2,
   "metadata": {},
   "outputs": [
    {
     "name": "stdout",
     "output_type": "stream",
     "text": [
      "Heelloo\n"
     ]
    }
   ],
   "source": [
    "print(\"Heelloo\")"
   ]
  },
  {
   "cell_type": "code",
   "execution_count": 3,
   "metadata": {},
   "outputs": [
    {
     "name": "stdout",
     "output_type": "stream",
     "text": [
      "請輸入暱稱：kathrine\n"
     ]
    }
   ],
   "source": [
    "name = input(\"請輸入暱稱：\")"
   ]
  },
  {
   "cell_type": "code",
   "execution_count": 4,
   "metadata": {},
   "outputs": [
    {
     "name": "stdout",
     "output_type": "stream",
     "text": [
      "歡迎kathrine進入遊戲\n"
     ]
    }
   ],
   "source": [
    "print(\"歡迎%s進入遊戲\"%name)"
   ]
  },
  {
   "cell_type": "code",
   "execution_count": 5,
   "metadata": {},
   "outputs": [
    {
     "name": "stdout",
     "output_type": "stream",
     "text": [
      "請出拳\n",
      "(1)剪刀\n",
      "(2)石頭\n",
      "(3)布\n",
      "請輸入數字1\n"
     ]
    }
   ],
   "source": [
    "user_hand = int(input(\"請出拳\\n(1)剪刀\\n(2)石頭\\n(3)布\\n請輸入數字\"))\n",
    "if user_hand == 1:\n",
    "    user_hand = \"剪刀\"\n",
    "elif user_hand == 2:\n",
    "    user_hand = \"石頭\"\n",
    "else :\n",
    "    user_hand = \"布\""
   ]
  },
  {
   "cell_type": "code",
   "execution_count": 6,
   "metadata": {},
   "outputs": [],
   "source": [
    "computer = (random.randint(1,3))\n",
    "if computer == 1:\n",
    "    computer = \"剪刀\"\n",
    "elif computer == 2:\n",
    "    computer = \"石頭\"\n",
    "else :\n",
    "    computer = \"布\""
   ]
  },
  {
   "cell_type": "code",
   "execution_count": 7,
   "metadata": {},
   "outputs": [
    {
     "name": "stdout",
     "output_type": "stream",
     "text": [
      "玩家出拳為剪刀\n",
      "電腦出拳為布\n",
      "電腦勝利\n",
      "遊戲結束\n"
     ]
    }
   ],
   "source": [
    "if ((computer == 1 and user_hand == 3) or (computer == 2 and user_hand == 1) or (computer == 3 and user_hand == 2)):\n",
    "        print(\"玩家出拳為%s\\n電腦出拳為%s\\n玩家勝利\"%(user_hand,computer))\n",
    "elif computer == user_hand:\n",
    "        print(\"玩家出拳為%s\\n電腦出拳為%s\\n平局\"%(user_hand,computer))\n",
    "else:\n",
    "        print(\"玩家出拳為%s\\n電腦出拳為%s\\n電腦勝利\"%(user_hand,computer))\n",
    "print(\"遊戲結束\")"
   ]
  }
 ],
 "metadata": {
  "kernelspec": {
   "display_name": "Python 3",
   "language": "python",
   "name": "python3"
  },
  "language_info": {
   "codemirror_mode": {
    "name": "ipython",
    "version": 3
   },
   "file_extension": ".py",
   "mimetype": "text/x-python",
   "name": "python",
   "nbconvert_exporter": "python",
   "pygments_lexer": "ipython3",
   "version": "3.8.8"
  }
 },
 "nbformat": 4,
 "nbformat_minor": 4
}
