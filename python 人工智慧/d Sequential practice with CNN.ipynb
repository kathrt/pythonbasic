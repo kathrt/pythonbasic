{
 "cells": [
  {
   "cell_type": "markdown",
   "id": "344b5c82",
   "metadata": {},
   "source": [
    "回顧 sequential"
   ]
  },
  {
   "cell_type": "markdown",
   "id": "48fb717f",
   "metadata": {},
   "source": [
    "##### Sequential\n",
    "---------------\n",
    "- 神經網路層線性堆疊的建模方式\n",
    "- 只需專注於建立神經網路層\n",
    "- 當某層需修改，所有層都需重新定義"
   ]
  },
  {
   "cell_type": "markdown",
   "id": "1ed01b94",
   "metadata": {},
   "source": [
    "sequential 的不同面向"
   ]
  },
  {
   "cell_type": "markdown",
   "id": "6e78f539",
   "metadata": {},
   "source": [
    "初始準備"
   ]
  },
  {
   "cell_type": "code",
   "execution_count": 1,
   "id": "b6faf434",
   "metadata": {},
   "outputs": [
    {
     "name": "stdout",
     "output_type": "stream",
     "text": [
      "env: KERAS_BACKEND=tensorflow\n"
     ]
    }
   ],
   "source": [
    "%env KERAS_BACKEND = tensorflow"
   ]
  },
  {
   "cell_type": "code",
   "execution_count": 2,
   "id": "811848c4",
   "metadata": {},
   "outputs": [],
   "source": [
    "%matplotlib inline\n",
    "import numpy as np\n",
    "import matplotlib.pyplot as plt"
   ]
  },
  {
   "cell_type": "code",
   "execution_count": 3,
   "id": "271bed31",
   "metadata": {},
   "outputs": [],
   "source": [
    "# keras.functions\n",
    "from keras.models import Sequential\n",
    "from keras.layers import Dense, Activation\n",
    "from tensorflow.keras.optimizers import SGD  #notice! use tensorflow.keras.optimizers\n",
    "\n",
    "# keras.dataset\n",
    "from keras.datasets import mnist  # 手寫辨識資料  mnist\n",
    "\n",
    "# keras.utilis function\n",
    "from keras.utils import np_utils    # one-Hot encoding 0 ~ 9 改成向量的 utils"
   ]
  },
  {
   "cell_type": "code",
   "execution_count": 4,
   "id": "299cb93a",
   "metadata": {},
   "outputs": [],
   "source": [
    "(x_train, y_train), (x_test, y_test) = mnist.load_data()"
   ]
  },
  {
   "cell_type": "code",
   "execution_count": 5,
   "id": "f3cd9547",
   "metadata": {},
   "outputs": [
    {
     "name": "stdout",
     "output_type": "stream",
     "text": [
      "共有 60000 訓練資料, 每筆資料尺寸為 28 x 28\n",
      "共有 10000 測試資料, 每筆資料尺寸為 28 x 28\n"
     ]
    }
   ],
   "source": [
    "print('共有 %d 訓練資料, 每筆資料尺寸為 %d x %d' %x_train.shape)\n",
    "print('共有 %d 測試資料, 每筆資料尺寸為 %d x %d' %x_test.shape)"
   ]
  },
  {
   "cell_type": "code",
   "execution_count": 6,
   "id": "de55e0ec",
   "metadata": {},
   "outputs": [],
   "source": [
    "x_train = x_train.reshape(60000, 784)  # 矩陣拉平\n",
    "x_test = x_test.reshape(10000, 784)"
   ]
  },
  {
   "cell_type": "code",
   "execution_count": 7,
   "id": "befc4fe9",
   "metadata": {},
   "outputs": [],
   "source": [
    "x_train_01 = x_train[y_train <= 1]  #將資料中 0, 1 複製一份出來\n",
    "x_test_01 = x_test[y_test <= 1]"
   ]
  },
  {
   "cell_type": "code",
   "execution_count": 8,
   "id": "ac84921a",
   "metadata": {},
   "outputs": [],
   "source": [
    "y_train_10 = np_utils.to_categorical(y_train, 10)\n",
    "y_test_10 = np_utils.to_categorical(y_test, 10)\n",
    "\n",
    "y_train_01 = y_train[y_train <= 1]\n",
    "y_train_01 = np_utils.to_categorical(y_train_01, 2)\n",
    "\n",
    "y_test_01 = y_test[y_test <= 1]\n",
    "y_test_01 = np_utils.to_categorical(y_test_01, 2)"
   ]
  },
  {
   "cell_type": "markdown",
   "id": "6f61752f",
   "metadata": {},
   "source": [
    "將 label 轉成 one-Hot encoding 形式"
   ]
  },
  {
   "cell_type": "code",
   "execution_count": 9,
   "id": "1e0efcda",
   "metadata": {},
   "outputs": [
    {
     "data": {
      "text/plain": [
       "[(12665, 784), (12665, 2), (2115, 784), (2115, 2)]"
      ]
     },
     "execution_count": 9,
     "metadata": {},
     "output_type": "execute_result"
    }
   ],
   "source": [
    "[x_train_01.shape, y_train_01.shape, x_test_01.shape,  y_test_01.shape]"
   ]
  },
  {
   "cell_type": "code",
   "execution_count": 10,
   "id": "db2d941a",
   "metadata": {},
   "outputs": [
    {
     "name": "stdout",
     "output_type": "stream",
     "text": [
      "Model: \"sequential\"\n",
      "_________________________________________________________________\n",
      "Layer (type)                 Output Shape              Param #   \n",
      "=================================================================\n",
      "dense (Dense)                (None, 500)               392500    \n",
      "_________________________________________________________________\n",
      "activation (Activation)      (None, 500)               0         \n",
      "_________________________________________________________________\n",
      "dense_1 (Dense)              (None, 500)               250500    \n",
      "_________________________________________________________________\n",
      "activation_1 (Activation)    (None, 500)               0         \n",
      "_________________________________________________________________\n",
      "dense_2 (Dense)              (None, 500)               250500    \n",
      "_________________________________________________________________\n",
      "activation_2 (Activation)    (None, 500)               0         \n",
      "=================================================================\n",
      "Total params: 893,500\n",
      "Trainable params: 893,500\n",
      "Non-trainable params: 0\n",
      "_________________________________________________________________\n"
     ]
    }
   ],
   "source": [
    "# Construct a sandbox to put layers inside\n",
    "\n",
    "model = Sequential()\n",
    "\n",
    "# Put fully-connected layers(Dense) inside建立一個空的盒子\n",
    "\n",
    "model.add(Dense(500, input_dim = 784))\n",
    "model.add(Activation('sigmoid'))\n",
    "model.add(Dense(500))\n",
    "model.add(Activation('sigmoid'))\n",
    "model.add(Dense(500))\n",
    "model.add(Activation('softmax'))\n",
    "# 第一次建模用線性堆疊\n",
    "\n",
    "model.summary()"
   ]
  },
  {
   "cell_type": "code",
   "execution_count": 11,
   "id": "91230c47",
   "metadata": {},
   "outputs": [
    {
     "data": {
      "text/plain": [
       "[<keras.layers.core.dense.Dense at 0x7faf1bd1be20>,\n",
       " <keras.layers.core.activation.Activation at 0x7faf1bd1bf40>,\n",
       " <keras.layers.core.dense.Dense at 0x7faf1be20370>,\n",
       " <keras.layers.core.activation.Activation at 0x7faf1be20790>,\n",
       " <keras.layers.core.dense.Dense at 0x7faf1be94bb0>,\n",
       " <keras.layers.core.activation.Activation at 0x7faf1be49490>]"
      ]
     },
     "execution_count": 11,
     "metadata": {},
     "output_type": "execute_result"
    }
   ],
   "source": [
    "model.layers"
   ]
  },
  {
   "cell_type": "code",
   "execution_count": 12,
   "id": "ba6f38a9",
   "metadata": {},
   "outputs": [],
   "source": [
    "# 第二次建模用 list (每層分開) \n",
    "first_layer = [Dense(500, input_dim = 784), Activation('sigmoid')]\n",
    "sencond_layer = [Dense(500), Activation('sigmoid')]\n",
    "output_layer = [Dense(500), Activation('softmax')]"
   ]
  },
  {
   "cell_type": "code",
   "execution_count": 13,
   "id": "acb54550",
   "metadata": {},
   "outputs": [
    {
     "data": {
      "text/plain": [
       "[<keras.layers.core.dense.Dense at 0x7faf1bd1b700>,\n",
       " <keras.layers.core.activation.Activation at 0x7faf1be50be0>,\n",
       " <keras.layers.core.dense.Dense at 0x7faf1bd1b430>,\n",
       " <keras.layers.core.activation.Activation at 0x7faf1be56160>,\n",
       " <keras.layers.core.dense.Dense at 0x7faf1bd1bc70>,\n",
       " <keras.layers.core.activation.Activation at 0x7faf1be56b50>]"
      ]
     },
     "execution_count": 13,
     "metadata": {},
     "output_type": "execute_result"
    }
   ],
   "source": [
    "first_layer + sencond_layer + output_layer  # use list to connect three layers"
   ]
  },
  {
   "cell_type": "code",
   "execution_count": 14,
   "id": "d8cec204",
   "metadata": {},
   "outputs": [],
   "source": [
    "model = Sequential(first_layer + sencond_layer + output_layer)"
   ]
  },
  {
   "cell_type": "code",
   "execution_count": 15,
   "id": "47a2ca59",
   "metadata": {},
   "outputs": [
    {
     "name": "stdout",
     "output_type": "stream",
     "text": [
      "Model: \"sequential_1\"\n",
      "_________________________________________________________________\n",
      "Layer (type)                 Output Shape              Param #   \n",
      "=================================================================\n",
      "dense_3 (Dense)              (None, 500)               392500    \n",
      "_________________________________________________________________\n",
      "activation_3 (Activation)    (None, 500)               0         \n",
      "_________________________________________________________________\n",
      "dense_4 (Dense)              (None, 500)               250500    \n",
      "_________________________________________________________________\n",
      "activation_4 (Activation)    (None, 500)               0         \n",
      "_________________________________________________________________\n",
      "dense_5 (Dense)              (None, 500)               250500    \n",
      "_________________________________________________________________\n",
      "activation_5 (Activation)    (None, 500)               0         \n",
      "=================================================================\n",
      "Total params: 893,500\n",
      "Trainable params: 893,500\n",
      "Non-trainable params: 0\n",
      "_________________________________________________________________\n"
     ]
    }
   ],
   "source": [
    "model.summary()"
   ]
  },
  {
   "cell_type": "code",
   "execution_count": 16,
   "id": "4a8e6cc6",
   "metadata": {},
   "outputs": [
    {
     "name": "stdout",
     "output_type": "stream",
     "text": [
      "Model: \"sequential_2\"\n",
      "_________________________________________________________________\n",
      "Layer (type)                 Output Shape              Param #   \n",
      "=================================================================\n",
      "dense_6 (Dense)              (None, 500)               392500    \n",
      "_________________________________________________________________\n",
      "activation_6 (Activation)    (None, 500)               0         \n",
      "_________________________________________________________________\n",
      "dense_7 (Dense)              (None, 500)               250500    \n",
      "_________________________________________________________________\n",
      "activation_7 (Activation)    (None, 500)               0         \n",
      "_________________________________________________________________\n",
      "dense_8 (Dense)              (None, 10)                5010      \n",
      "_________________________________________________________________\n",
      "activation_8 (Activation)    (None, 10)                0         \n",
      "=================================================================\n",
      "Total params: 648,010\n",
      "Trainable params: 648,010\n",
      "Non-trainable params: 0\n",
      "_________________________________________________________________\n"
     ]
    }
   ],
   "source": [
    "# 第三次建模(前兩層包起來)\n",
    "all_except_last = [Dense(500, input_dim = 784),\n",
    "                   Activation('sigmoid'), \n",
    "                   Dense(500),\n",
    "                   Activation('sigmoid')]\n",
    "\n",
    "output_layer = [Dense(10), Activation('softmax')]\n",
    "\n",
    "model_0_to_9 = Sequential(all_except_last + output_layer)\n",
    "model_0_to_9.summary()"
   ]
  },
  {
   "cell_type": "code",
   "execution_count": 17,
   "id": "26f1f946",
   "metadata": {},
   "outputs": [],
   "source": [
    "model_0_to_9.load_weights('手寫辨識.h5')"
   ]
  },
  {
   "cell_type": "code",
   "execution_count": 18,
   "id": "746a3150",
   "metadata": {},
   "outputs": [
    {
     "name": "stdout",
     "output_type": "stream",
     "text": [
      "Model: \"sequential_3\"\n",
      "_________________________________________________________________\n",
      "Layer (type)                 Output Shape              Param #   \n",
      "=================================================================\n",
      "dense_6 (Dense)              (None, 500)               392500    \n",
      "_________________________________________________________________\n",
      "activation_6 (Activation)    (None, 500)               0         \n",
      "_________________________________________________________________\n",
      "dense_7 (Dense)              (None, 500)               250500    \n",
      "_________________________________________________________________\n",
      "activation_7 (Activation)    (None, 500)               0         \n",
      "_________________________________________________________________\n",
      "dense_9 (Dense)              (None, 2)                 1002      \n",
      "_________________________________________________________________\n",
      "activation_9 (Activation)    (None, 2)                 0         \n",
      "=================================================================\n",
      "Total params: 644,002\n",
      "Trainable params: 644,002\n",
      "Non-trainable params: 0\n",
      "_________________________________________________________________\n"
     ]
    }
   ],
   "source": [
    "new_output_layer = [Dense(2), Activation('softmax')]\n",
    "\n",
    "model_0_to_1 = Sequential(all_except_last + new_output_layer)\n",
    "model_0_to_1.summary()   # 可以發現前四行名字與上個 summary 是一樣的"
   ]
  },
  {
   "cell_type": "code",
   "execution_count": 19,
   "id": "bbb9f9cf",
   "metadata": {},
   "outputs": [
    {
     "name": "stdout",
     "output_type": "stream",
     "text": [
      "Model: \"sequential_3\"\n",
      "_________________________________________________________________\n",
      "Layer (type)                 Output Shape              Param #   \n",
      "=================================================================\n",
      "dense_6 (Dense)              (None, 500)               392500    \n",
      "_________________________________________________________________\n",
      "activation_6 (Activation)    (None, 500)               0         \n",
      "_________________________________________________________________\n",
      "dense_7 (Dense)              (None, 500)               250500    \n",
      "_________________________________________________________________\n",
      "activation_7 (Activation)    (None, 500)               0         \n",
      "_________________________________________________________________\n",
      "dense_9 (Dense)              (None, 2)                 1002      \n",
      "_________________________________________________________________\n",
      "activation_9 (Activation)    (None, 2)                 0         \n",
      "=================================================================\n",
      "Total params: 644,002\n",
      "Trainable params: 1,002\n",
      "Non-trainable params: 643,000\n",
      "_________________________________________________________________\n"
     ]
    }
   ],
   "source": [
    "for layer in all_except_last:\n",
    "    layer.trainable = False  # 我們把它冷凍起來表示訓練時不用再訓練一次\n",
    "    \n",
    "model_0_to_1.summary() # 只有最下面 trainable params: 1002 沒有包含前四行"
   ]
  },
  {
   "cell_type": "code",
   "execution_count": 20,
   "id": "6a2ca27e",
   "metadata": {},
   "outputs": [],
   "source": [
    "model_0_to_1.compile(loss = 'mse', optimizer = SGD(learning_rate = 0.1), metrics = ['accuracy'])"
   ]
  },
  {
   "cell_type": "code",
   "execution_count": 21,
   "id": "6a27ec36",
   "metadata": {},
   "outputs": [
    {
     "data": {
      "text/plain": [
       "(12665, 784)"
      ]
     },
     "execution_count": 21,
     "metadata": {},
     "output_type": "execute_result"
    }
   ],
   "source": [
    "x_train_01.shape"
   ]
  },
  {
   "cell_type": "code",
   "execution_count": 22,
   "id": "c885e9a1",
   "metadata": {},
   "outputs": [
    {
     "data": {
      "text/plain": [
       "(12665, 2)"
      ]
     },
     "execution_count": 22,
     "metadata": {},
     "output_type": "execute_result"
    }
   ],
   "source": [
    "y_train_01.shape"
   ]
  },
  {
   "cell_type": "code",
   "execution_count": 23,
   "id": "db6743b1",
   "metadata": {},
   "outputs": [
    {
     "name": "stdout",
     "output_type": "stream",
     "text": [
      "Epoch 1/5\n",
      "127/127 [==============================] - 6s 14ms/step - loss: 0.0144 - accuracy: 0.9799\n",
      "Epoch 2/5\n",
      "127/127 [==============================] - 2s 16ms/step - loss: 0.0035 - accuracy: 0.9968\n",
      "Epoch 3/5\n",
      "127/127 [==============================] - 3s 21ms/step - loss: 0.0029 - accuracy: 0.9972\n",
      "Epoch 4/5\n",
      "127/127 [==============================] - 3s 21ms/step - loss: 0.0026 - accuracy: 0.9975\n",
      "Epoch 5/5\n",
      "127/127 [==============================] - 2s 18ms/step - loss: 0.0025 - accuracy: 0.9973\n"
     ]
    },
    {
     "data": {
      "text/plain": [
       "<keras.callbacks.History at 0x7faf1be61df0>"
      ]
     },
     "execution_count": 23,
     "metadata": {},
     "output_type": "execute_result"
    }
   ],
   "source": [
    "model_0_to_1.fit(x_train_01, y_train_01, batch_size = 100, epochs = 5)"
   ]
  },
  {
   "cell_type": "code",
   "execution_count": 24,
   "id": "a93b3e6f",
   "metadata": {},
   "outputs": [
    {
     "name": "stdout",
     "output_type": "stream",
     "text": [
      "67/67 [==============================] - 2s 17ms/step - loss: 0.0012 - accuracy: 0.9991\n"
     ]
    }
   ],
   "source": [
    "score = model_0_to_1.evaluate(x_test_01, y_test_01)"
   ]
  },
  {
   "cell_type": "code",
   "execution_count": 25,
   "id": "2bd353e5",
   "metadata": {},
   "outputs": [
    {
     "name": "stdout",
     "output_type": "stream",
     "text": [
      "測試資料的loss: 0.0012303378898650408\n",
      "測試資料正確率: 0.9990543723106384\n"
     ]
    }
   ],
   "source": [
    "print('測試資料的loss:', score[0])\n",
    "print('測試資料正確率:', score[1])"
   ]
  },
  {
   "cell_type": "code",
   "execution_count": null,
   "id": "6b8ecaf2",
   "metadata": {},
   "outputs": [],
   "source": []
  }
 ],
 "metadata": {
  "kernelspec": {
   "display_name": "Python 3",
   "language": "python",
   "name": "python3"
  },
  "language_info": {
   "codemirror_mode": {
    "name": "ipython",
    "version": 3
   },
   "file_extension": ".py",
   "mimetype": "text/x-python",
   "name": "python",
   "nbconvert_exporter": "python",
   "pygments_lexer": "ipython3",
   "version": "3.8.8"
  }
 },
 "nbformat": 4,
 "nbformat_minor": 5
}
