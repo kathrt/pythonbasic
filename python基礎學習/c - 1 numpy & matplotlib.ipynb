{
 "cells": [
  {
   "cell_type": "markdown",
   "id": "bc00c6cc",
   "metadata": {},
   "source": [
    "# 讀套件之函數  \n",
    "from 套件 import 函數"
   ]
  },
  {
   "cell_type": "code",
   "execution_count": 1,
   "id": "4290ee4b",
   "metadata": {},
   "outputs": [],
   "source": [
    "from numpy import sin"
   ]
  },
  {
   "cell_type": "code",
   "execution_count": 2,
   "id": "a9286f3d",
   "metadata": {},
   "outputs": [
    {
     "data": {
      "text/plain": [
       "-0.5440211108893699"
      ]
     },
     "execution_count": 2,
     "metadata": {},
     "output_type": "execute_result"
    }
   ],
   "source": [
    "sin(10)"
   ]
  },
  {
   "cell_type": "markdown",
   "id": "c463acb7",
   "metadata": {},
   "source": [
    "# 讀套件所有函數  \n",
    "from 套件 import *  但是不推薦"
   ]
  },
  {
   "cell_type": "code",
   "execution_count": 3,
   "id": "ddf0f645",
   "metadata": {},
   "outputs": [],
   "source": [
    "from random import *"
   ]
  },
  {
   "cell_type": "code",
   "execution_count": 4,
   "id": "65b77ee9",
   "metadata": {},
   "outputs": [
    {
     "name": "stdout",
     "output_type": "stream",
     "text": [
      "10, 10, 3, 2, 9, 9, 7, 4, 8, 9, 1, 8, 10, 10, 9, 5, 2, 6, 6, 1, 7, 8, 1, 9, 8, 6, 8, 7, 8, 10, 3, 1, 2, 5, 1, 10, 7, 5, 9, 6, 8, 8, 9, 1, 6, 2, 9, 4, 1, 1, "
     ]
    }
   ],
   "source": [
    "for i in range(50):\n",
    "    print(randint(1,10),end = ', ')"
   ]
  },
  {
   "cell_type": "code",
   "execution_count": 5,
   "id": "62482493",
   "metadata": {},
   "outputs": [],
   "source": [
    "from numpy.random import *"
   ]
  },
  {
   "cell_type": "code",
   "execution_count": 6,
   "id": "dfbcf280",
   "metadata": {},
   "outputs": [
    {
     "name": "stdout",
     "output_type": "stream",
     "text": [
      "8, 8, 1, 9, 9, 4, 7, 5, 1, 9, 4, 7, 1, 6, 9, 5, 2, 3, 4, 3, 4, 9, 8, 5, 6, 7, 5, 4, 6, 9, 2, 2, 5, 7, 7, 4, 4, 6, 8, 6, 5, 5, 6, 1, 7, 6, 3, 3, 5, 2, "
     ]
    }
   ],
   "source": [
    "for i in range(50):\n",
    "    print(randint(1,10),end = ', ')"
   ]
  },
  {
   "cell_type": "markdown",
   "id": "76f18aaf",
   "metadata": {},
   "source": [
    "###### 把套件都讀進去會導致同名函數混亂,不建議用import * 與 %pylab inline"
   ]
  },
  {
   "cell_type": "markdown",
   "id": "f00427b7",
   "metadata": {},
   "source": [
    "###### 上面程式中可知numpy 與 python 中的亂數( x , y )用法不一，numpy 是從 x~ 小於 y的數，python 是從 x~ y 的數"
   ]
  },
  {
   "cell_type": "code",
   "execution_count": 7,
   "id": "e1a2615b",
   "metadata": {},
   "outputs": [],
   "source": [
    "import numpy as np"
   ]
  },
  {
   "cell_type": "code",
   "execution_count": 8,
   "id": "8f10c0f1",
   "metadata": {},
   "outputs": [
    {
     "data": {
      "text/plain": [
       "0.1411200080598672"
      ]
     },
     "execution_count": 8,
     "metadata": {},
     "output_type": "execute_result"
    }
   ],
   "source": [
    "np.sin(3)"
   ]
  },
  {
   "cell_type": "markdown",
   "id": "cbaeb080",
   "metadata": {},
   "source": [
    "###### 優點  \n",
    "- import 套件名 (套件裡所有函數都有)  \n",
    "- import 套件名 as 綽號 (可以任意使用綽號)  "
   ]
  },
  {
   "cell_type": "markdown",
   "id": "101a5601",
   "metadata": {},
   "source": [
    "### 數據分析 標準動作"
   ]
  },
  {
   "cell_type": "code",
   "execution_count": 9,
   "id": "85aa4b0a",
   "metadata": {},
   "outputs": [],
   "source": [
    "%matplotlib inline\n",
    "import numpy as np\n",
    "import matplotlib.pyplot as plt"
   ]
  },
  {
   "cell_type": "markdown",
   "id": "acec1c8f",
   "metadata": {},
   "source": [
    "###### 若忘記字可以打tab 鍵(在Q左邊)會出現提示"
   ]
  },
  {
   "cell_type": "code",
   "execution_count": 11,
   "id": "ec1ac743",
   "metadata": {},
   "outputs": [
    {
     "data": {
      "text/plain": [
       "[<matplotlib.lines.Line2D at 0x7f8f6e9ee8e0>]"
      ]
     },
     "execution_count": 11,
     "metadata": {},
     "output_type": "execute_result"
    },
    {
     "data": {
      "image/png": "[encoded data removed]",
      "text/plain": [
       "<Figure size 432x288 with 1 Axes>"
      ]
     },
     "metadata": {
      "needs_background": "light"
     },
     "output_type": "display_data"
    }
   ],
   "source": [
    "plt.plot(np.random.randn(100))"
   ]
  },
  {
   "cell_type": "markdown",
   "id": "c1a29a77",
   "metadata": {},
   "source": [
    "###### List append"
   ]
  },
  {
   "cell_type": "code",
   "execution_count": 3,
   "id": "4ab7e646",
   "metadata": {},
   "outputs": [],
   "source": [
    "a = [1,2,3]\n",
    "b = 3"
   ]
  },
  {
   "cell_type": "code",
   "execution_count": 12,
   "id": "371f4a4a",
   "metadata": {},
   "outputs": [
    {
     "name": "stdout",
     "output_type": "stream",
     "text": [
      "3\n",
      "6\n",
      "9\n"
     ]
    }
   ],
   "source": [
    "for c in a:\n",
    "    print(c*b)"
   ]
  },
  {
   "cell_type": "code",
   "execution_count": null,
   "id": "83dff641",
   "metadata": {},
   "outputs": [],
   "source": [
    "result = []"
   ]
  },
  {
   "cell_type": "code",
   "execution_count": 13,
   "id": "5a8297c5",
   "metadata": {},
   "outputs": [],
   "source": [
    "for c in a:\n",
    "    which = c*b\n",
    "    result.append(which)"
   ]
  },
  {
   "cell_type": "code",
   "execution_count": 14,
   "id": "783e11fb",
   "metadata": {},
   "outputs": [
    {
     "data": {
      "text/plain": [
       "[3, 6, 9, 3, 6, 9]"
      ]
     },
     "execution_count": 14,
     "metadata": {},
     "output_type": "execute_result"
    }
   ],
   "source": [
    "result"
   ]
  },
  {
   "cell_type": "markdown",
   "id": "cda85e13",
   "metadata": {},
   "source": [
    "###### list turn into numpy array  \n",
    "###### np.array(list)"
   ]
  },
  {
   "cell_type": "markdown",
   "id": "9e8c457a",
   "metadata": {},
   "source": [
    "###### ARRAY\n",
    "* array oriented 陣列導向\n",
    "* 少用for迴圈多用array"
   ]
  },
  {
   "cell_type": "code",
   "execution_count": 16,
   "id": "45b8b348",
   "metadata": {},
   "outputs": [],
   "source": [
    "%matplotlib inline\n",
    "import numpy as np\n",
    "import matplotlib.pyplot as plt"
   ]
  },
  {
   "cell_type": "code",
   "execution_count": 17,
   "id": "77de90c5",
   "metadata": {},
   "outputs": [],
   "source": [
    "a = [1,2,3]\n",
    "b = 3"
   ]
  },
  {
   "cell_type": "code",
   "execution_count": 18,
   "id": "32ca4ba5",
   "metadata": {},
   "outputs": [
    {
     "data": {
      "text/plain": [
       "array([3, 6, 9])"
      ]
     },
     "execution_count": 18,
     "metadata": {},
     "output_type": "execute_result"
    }
   ],
   "source": [
    "array = np.array(a)\n",
    "array*c"
   ]
  },
  {
   "cell_type": "markdown",
   "id": "3f41b6ed",
   "metadata": {},
   "source": [
    "###### np.dot(array1,array2)"
   ]
  },
  {
   "cell_type": "code",
   "execution_count": 21,
   "id": "c70fdbe3",
   "metadata": {},
   "outputs": [],
   "source": [
    "grades = np.array([60,55,72])\n",
    "weights = np.array([0.30,0.3,0.4])"
   ]
  },
  {
   "cell_type": "code",
   "execution_count": 20,
   "id": "69611b4b",
   "metadata": {},
   "outputs": [
    {
     "data": {
      "text/plain": [
       "63.3"
      ]
     },
     "execution_count": 20,
     "metadata": {},
     "output_type": "execute_result"
    }
   ],
   "source": [
    "np.dot(grades,weights)"
   ]
  },
  {
   "cell_type": "markdown",
   "id": "779c311f",
   "metadata": {},
   "source": [
    "###### array 可以是二維的"
   ]
  },
  {
   "cell_type": "code",
   "execution_count": 23,
   "id": "d5dd5688",
   "metadata": {},
   "outputs": [],
   "source": [
    "grades = np.array([[60,72,49],[92,97,95],[84,53,60]])\n",
    "weights = np.array([0.3,0.3,0.4])"
   ]
  },
  {
   "cell_type": "code",
   "execution_count": 24,
   "id": "fb36cfe5",
   "metadata": {},
   "outputs": [
    {
     "data": {
      "text/plain": [
       "array([59.2, 94.7, 65.1])"
      ]
     },
     "execution_count": 24,
     "metadata": {},
     "output_type": "execute_result"
    }
   ],
   "source": [
    "np.dot(grades,weights)"
   ]
  },
  {
   "cell_type": "markdown",
   "id": "1b47eb58",
   "metadata": {},
   "source": [
    "###### 改變變數標準差和平均值"
   ]
  },
  {
   "cell_type": "code",
   "execution_count": 2,
   "id": "8967700f",
   "metadata": {},
   "outputs": [],
   "source": [
    "%matplotlib inline\n",
    "import numpy as np\n",
    "import matplotlib.pyplot as plt"
   ]
  },
  {
   "cell_type": "code",
   "execution_count": 3,
   "id": "353b62ab",
   "metadata": {},
   "outputs": [],
   "source": [
    "A = np.random.randn(100)"
   ]
  },
  {
   "cell_type": "code",
   "execution_count": 4,
   "id": "6e72e830",
   "metadata": {},
   "outputs": [],
   "source": [
    "A = 10*A + 50"
   ]
  },
  {
   "cell_type": "markdown",
   "id": "98c30b79",
   "metadata": {},
   "source": [
    "###### 標準差 = 10 ,平均值 = 50"
   ]
  },
  {
   "cell_type": "code",
   "execution_count": 6,
   "id": "adb33965",
   "metadata": {},
   "outputs": [
    {
     "data": {
      "text/plain": [
       "array([57.6673791 , 57.2807844 , 69.74634517, 53.05000397, 63.24101918,\n",
       "       48.49358401, 60.95397329, 59.15458742, 28.56623536, 51.00420919,\n",
       "       51.14053331, 38.21064271, 40.6668483 , 44.29789636, 40.55783833,\n",
       "       49.10828436, 53.92006831, 38.45365735, 41.21859079, 37.38576762,\n",
       "       51.77278721, 58.24700157, 55.80266608, 38.35319433, 45.24743452,\n",
       "       42.75473218, 37.985501  , 38.85967519, 55.86160811, 43.37961454,\n",
       "       49.86599842, 44.91291827, 47.51099309, 37.56324552, 42.69607111,\n",
       "       54.41586222, 55.18367804, 59.52619524, 42.53891706, 45.04278363,\n",
       "       59.86564261, 49.52454044, 66.18357247, 21.58128951, 59.62644036,\n",
       "       43.27741699, 55.32123015, 59.60320012, 50.1498817 , 61.14671076,\n",
       "       59.03914203, 57.57211155, 56.89520838, 47.39343526, 43.90045793,\n",
       "       61.01864516, 46.46576583, 60.59943969, 56.79282093, 24.99826345,\n",
       "       43.90427793, 68.13850665, 36.30828289, 58.79359234, 60.1080908 ,\n",
       "       33.5207008 , 40.01944679, 60.83348287, 48.74083237, 43.2026602 ,\n",
       "       43.6673023 , 45.16526287, 48.40038756, 63.42946293, 27.16130425,\n",
       "       68.57900717, 40.63513133, 53.53225568, 43.99132644, 54.99190537,\n",
       "       53.51076617, 43.37970949, 34.92679114, 55.06887845, 56.63900402,\n",
       "       48.15959483, 40.75235457, 41.78646705, 44.00211601, 52.96122211,\n",
       "       43.68010249, 49.27516294, 36.94601228, 59.93957384, 45.3417558 ,\n",
       "       44.24790032, 55.48438342, 46.69707915, 57.8950299 , 45.03423471])"
      ]
     },
     "execution_count": 6,
     "metadata": {},
     "output_type": "execute_result"
    }
   ],
   "source": [
    "A"
   ]
  },
  {
   "cell_type": "markdown",
   "id": "90cc1d52",
   "metadata": {},
   "source": [
    "###### 改變行列形狀"
   ]
  },
  {
   "cell_type": "code",
   "execution_count": 7,
   "id": "1f61477a",
   "metadata": {},
   "outputs": [],
   "source": [
    "A.shape = (10,10)"
   ]
  },
  {
   "cell_type": "code",
   "execution_count": 8,
   "id": "926d3c67",
   "metadata": {},
   "outputs": [
    {
     "data": {
      "text/plain": [
       "array([[57.6673791 , 57.2807844 , 69.74634517, 53.05000397, 63.24101918,\n",
       "        48.49358401, 60.95397329, 59.15458742, 28.56623536, 51.00420919],\n",
       "       [51.14053331, 38.21064271, 40.6668483 , 44.29789636, 40.55783833,\n",
       "        49.10828436, 53.92006831, 38.45365735, 41.21859079, 37.38576762],\n",
       "       [51.77278721, 58.24700157, 55.80266608, 38.35319433, 45.24743452,\n",
       "        42.75473218, 37.985501  , 38.85967519, 55.86160811, 43.37961454],\n",
       "       [49.86599842, 44.91291827, 47.51099309, 37.56324552, 42.69607111,\n",
       "        54.41586222, 55.18367804, 59.52619524, 42.53891706, 45.04278363],\n",
       "       [59.86564261, 49.52454044, 66.18357247, 21.58128951, 59.62644036,\n",
       "        43.27741699, 55.32123015, 59.60320012, 50.1498817 , 61.14671076],\n",
       "       [59.03914203, 57.57211155, 56.89520838, 47.39343526, 43.90045793,\n",
       "        61.01864516, 46.46576583, 60.59943969, 56.79282093, 24.99826345],\n",
       "       [43.90427793, 68.13850665, 36.30828289, 58.79359234, 60.1080908 ,\n",
       "        33.5207008 , 40.01944679, 60.83348287, 48.74083237, 43.2026602 ],\n",
       "       [43.6673023 , 45.16526287, 48.40038756, 63.42946293, 27.16130425,\n",
       "        68.57900717, 40.63513133, 53.53225568, 43.99132644, 54.99190537],\n",
       "       [53.51076617, 43.37970949, 34.92679114, 55.06887845, 56.63900402,\n",
       "        48.15959483, 40.75235457, 41.78646705, 44.00211601, 52.96122211],\n",
       "       [43.68010249, 49.27516294, 36.94601228, 59.93957384, 45.3417558 ,\n",
       "        44.24790032, 55.48438342, 46.69707915, 57.8950299 , 45.03423471]])"
      ]
     },
     "execution_count": 8,
     "metadata": {},
     "output_type": "execute_result"
    }
   ],
   "source": [
    "A"
   ]
  },
  {
   "cell_type": "markdown",
   "id": "fa231035",
   "metadata": {},
   "source": [
    "###### 重塑新的向量也可改變行列，但是新的"
   ]
  },
  {
   "cell_type": "code",
   "execution_count": 10,
   "id": "699ec736",
   "metadata": {},
   "outputs": [
    {
     "data": {
      "text/plain": [
       "array([[57.6673791 ],\n",
       "       [57.2807844 ],\n",
       "       [69.74634517],\n",
       "       [53.05000397],\n",
       "       [63.24101918],\n",
       "       [48.49358401],\n",
       "       [60.95397329],\n",
       "       [59.15458742],\n",
       "       [28.56623536],\n",
       "       [51.00420919],\n",
       "       [51.14053331],\n",
       "       [38.21064271],\n",
       "       [40.6668483 ],\n",
       "       [44.29789636],\n",
       "       [40.55783833],\n",
       "       [49.10828436],\n",
       "       [53.92006831],\n",
       "       [38.45365735],\n",
       "       [41.21859079],\n",
       "       [37.38576762],\n",
       "       [51.77278721],\n",
       "       [58.24700157],\n",
       "       [55.80266608],\n",
       "       [38.35319433],\n",
       "       [45.24743452],\n",
       "       [42.75473218],\n",
       "       [37.985501  ],\n",
       "       [38.85967519],\n",
       "       [55.86160811],\n",
       "       [43.37961454],\n",
       "       [49.86599842],\n",
       "       [44.91291827],\n",
       "       [47.51099309],\n",
       "       [37.56324552],\n",
       "       [42.69607111],\n",
       "       [54.41586222],\n",
       "       [55.18367804],\n",
       "       [59.52619524],\n",
       "       [42.53891706],\n",
       "       [45.04278363],\n",
       "       [59.86564261],\n",
       "       [49.52454044],\n",
       "       [66.18357247],\n",
       "       [21.58128951],\n",
       "       [59.62644036],\n",
       "       [43.27741699],\n",
       "       [55.32123015],\n",
       "       [59.60320012],\n",
       "       [50.1498817 ],\n",
       "       [61.14671076],\n",
       "       [59.03914203],\n",
       "       [57.57211155],\n",
       "       [56.89520838],\n",
       "       [47.39343526],\n",
       "       [43.90045793],\n",
       "       [61.01864516],\n",
       "       [46.46576583],\n",
       "       [60.59943969],\n",
       "       [56.79282093],\n",
       "       [24.99826345],\n",
       "       [43.90427793],\n",
       "       [68.13850665],\n",
       "       [36.30828289],\n",
       "       [58.79359234],\n",
       "       [60.1080908 ],\n",
       "       [33.5207008 ],\n",
       "       [40.01944679],\n",
       "       [60.83348287],\n",
       "       [48.74083237],\n",
       "       [43.2026602 ],\n",
       "       [43.6673023 ],\n",
       "       [45.16526287],\n",
       "       [48.40038756],\n",
       "       [63.42946293],\n",
       "       [27.16130425],\n",
       "       [68.57900717],\n",
       "       [40.63513133],\n",
       "       [53.53225568],\n",
       "       [43.99132644],\n",
       "       [54.99190537],\n",
       "       [53.51076617],\n",
       "       [43.37970949],\n",
       "       [34.92679114],\n",
       "       [55.06887845],\n",
       "       [56.63900402],\n",
       "       [48.15959483],\n",
       "       [40.75235457],\n",
       "       [41.78646705],\n",
       "       [44.00211601],\n",
       "       [52.96122211],\n",
       "       [43.68010249],\n",
       "       [49.27516294],\n",
       "       [36.94601228],\n",
       "       [59.93957384],\n",
       "       [45.3417558 ],\n",
       "       [44.24790032],\n",
       "       [55.48438342],\n",
       "       [46.69707915],\n",
       "       [57.8950299 ],\n",
       "       [45.03423471]])"
      ]
     },
     "execution_count": 10,
     "metadata": {},
     "output_type": "execute_result"
    }
   ],
   "source": [
    "A.reshape(100,1)"
   ]
  },
  {
   "cell_type": "markdown",
   "id": "e1e99c09",
   "metadata": {},
   "source": [
    "###### 生成隨機列表"
   ]
  },
  {
   "cell_type": "code",
   "execution_count": 4,
   "id": "cb3e0f7e",
   "metadata": {},
   "outputs": [],
   "source": [
    "%matplotlib inline\n",
    "import numpy as np\n",
    "import matplotlib.pyplot as plt"
   ]
  },
  {
   "cell_type": "code",
   "execution_count": 5,
   "id": "3a285918",
   "metadata": {},
   "outputs": [],
   "source": [
    "xy = [[x,y] for x in range(5) for y in range(3)]"
   ]
  },
  {
   "cell_type": "code",
   "execution_count": 6,
   "id": "d1551a7d",
   "metadata": {},
   "outputs": [],
   "source": [
    "xy = np.array(xy)"
   ]
  },
  {
   "cell_type": "code",
   "execution_count": 3,
   "id": "5f39d988",
   "metadata": {},
   "outputs": [
    {
     "data": {
      "text/plain": [
       "[[0, 0],\n",
       " [0, 1],\n",
       " [0, 2],\n",
       " [1, 0],\n",
       " [1, 1],\n",
       " [1, 2],\n",
       " [2, 0],\n",
       " [2, 1],\n",
       " [2, 2],\n",
       " [3, 0],\n",
       " [3, 1],\n",
       " [3, 2],\n",
       " [4, 0],\n",
       " [4, 1],\n",
       " [4, 2]]"
      ]
     },
     "execution_count": 3,
     "metadata": {},
     "output_type": "execute_result"
    }
   ],
   "source": [
    "xy"
   ]
  },
  {
   "cell_type": "code",
   "execution_count": 7,
   "id": "40d1255b",
   "metadata": {},
   "outputs": [
    {
     "data": {
      "text/plain": [
       "array([0., 0., 0., 0., 0., 0., 0., 0., 0., 0.])"
      ]
     },
     "execution_count": 7,
     "metadata": {},
     "output_type": "execute_result"
    }
   ],
   "source": [
    "np.zeros(10)"
   ]
  },
  {
   "cell_type": "code",
   "execution_count": 10,
   "id": "d4cfc3a5",
   "metadata": {},
   "outputs": [
    {
     "data": {
      "text/plain": [
       "array([[0., 0., 0., 0., 0.],\n",
       "       [0., 0., 0., 0., 0.]])"
      ]
     },
     "execution_count": 10,
     "metadata": {},
     "output_type": "execute_result"
    }
   ],
   "source": [
    "np.zeros((2,5))"
   ]
  },
  {
   "cell_type": "code",
   "execution_count": 11,
   "id": "538ae92d",
   "metadata": {},
   "outputs": [
    {
     "data": {
      "text/plain": [
       "array([1., 1., 1., 1.])"
      ]
     },
     "execution_count": 11,
     "metadata": {},
     "output_type": "execute_result"
    }
   ],
   "source": [
    "np.ones(4)"
   ]
  },
  {
   "cell_type": "markdown",
   "id": "84d3e213",
   "metadata": {},
   "source": [
    "###### 生成單位矩陣"
   ]
  },
  {
   "cell_type": "code",
   "execution_count": 12,
   "id": "a0f5d0e2",
   "metadata": {},
   "outputs": [
    {
     "data": {
      "text/plain": [
       "array([[1., 0., 0., 0., 0.],\n",
       "       [0., 1., 0., 0., 0.],\n",
       "       [0., 0., 1., 0., 0.],\n",
       "       [0., 0., 0., 1., 0.],\n",
       "       [0., 0., 0., 0., 1.]])"
      ]
     },
     "execution_count": 12,
     "metadata": {},
     "output_type": "execute_result"
    }
   ],
   "source": [
    "np.eye(5)"
   ]
  }
 ],
 "metadata": {
  "kernelspec": {
   "display_name": "Python 3",
   "language": "python",
   "name": "python3"
  },
  "language_info": {
   "codemirror_mode": {
    "name": "ipython",
    "version": 3
   },
   "file_extension": ".py",
   "mimetype": "text/x-python",
   "name": "python",
   "nbconvert_exporter": "python",
   "pygments_lexer": "ipython3",
   "version": "3.8.8"
  }
 },
 "nbformat": 4,
 "nbformat_minor": 5
}
