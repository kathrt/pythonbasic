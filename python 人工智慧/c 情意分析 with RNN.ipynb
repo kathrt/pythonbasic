{
 "cells": [
  {
   "cell_type": "code",
   "execution_count": 1,
   "id": "10ba235a",
   "metadata": {},
   "outputs": [
    {
     "name": "stdout",
     "output_type": "stream",
     "text": [
      "env: KERAS_BACKEND=tensorflow\n"
     ]
    }
   ],
   "source": [
    "%env KERAS_BACKEND = tensorflow"
   ]
  },
  {
   "cell_type": "code",
   "execution_count": 2,
   "id": "11e6e8a8",
   "metadata": {},
   "outputs": [],
   "source": [
    "%matplotlib inline\n",
    "import numpy as np\n",
    "import matplotlib.pyplot as plt"
   ]
  },
  {
   "cell_type": "code",
   "execution_count": 3,
   "id": "e03574cc",
   "metadata": {},
   "outputs": [],
   "source": [
    "from keras.datasets import imdb"
   ]
  },
  {
   "cell_type": "code",
   "execution_count": 4,
   "id": "e12d1644",
   "metadata": {},
   "outputs": [],
   "source": [
    "(x_train, y_train), (x_test, y_test) = imdb.load_data(num_words = 10000)"
   ]
  },
  {
   "cell_type": "code",
   "execution_count": 5,
   "id": "89640ddc",
   "metadata": {},
   "outputs": [
    {
     "data": {
      "text/plain": [
       "25000"
      ]
     },
     "execution_count": 5,
     "metadata": {},
     "output_type": "execute_result"
    }
   ],
   "source": [
    "len(x_train)"
   ]
  },
  {
   "cell_type": "code",
   "execution_count": 6,
   "id": "978b6e2a",
   "metadata": {},
   "outputs": [
    {
     "data": {
      "text/plain": [
       "25000"
      ]
     },
     "execution_count": 6,
     "metadata": {},
     "output_type": "execute_result"
    }
   ],
   "source": [
    "len(x_test)"
   ]
  },
  {
   "cell_type": "code",
   "execution_count": 7,
   "id": "b1a0604a",
   "metadata": {},
   "outputs": [
    {
     "name": "stdout",
     "output_type": "stream",
     "text": [
      "218,189,141,550,147,43,123,562,233,130,"
     ]
    }
   ],
   "source": [
    "for i in range(10):\n",
    "    print(len(x_train[i]), end = ',')"
   ]
  },
  {
   "cell_type": "code",
   "execution_count": 8,
   "id": "35ee0c09",
   "metadata": {},
   "outputs": [
    {
     "data": {
      "text/plain": [
       "array([1, 0, 0, 1, 0, 0, 1, 0, 1, 0])"
      ]
     },
     "execution_count": 8,
     "metadata": {},
     "output_type": "execute_result"
    }
   ],
   "source": [
    "y_train[:10]"
   ]
  },
  {
   "cell_type": "code",
   "execution_count": 9,
   "id": "f49f1d8d",
   "metadata": {},
   "outputs": [],
   "source": [
    "from keras.preprocessing import sequence"
   ]
  },
  {
   "cell_type": "code",
   "execution_count": 10,
   "id": "f3e77bf9",
   "metadata": {},
   "outputs": [],
   "source": [
    "x_train = sequence.pad_sequences(x_train, maxlen = 100)\n",
    "x_test = sequence.pad_sequences(x_test, maxlen = 100)"
   ]
  },
  {
   "cell_type": "code",
   "execution_count": 11,
   "id": "863693fb",
   "metadata": {},
   "outputs": [
    {
     "data": {
      "text/plain": [
       "(25000, 100)"
      ]
     },
     "execution_count": 11,
     "metadata": {},
     "output_type": "execute_result"
    }
   ],
   "source": [
    "x_train.shape"
   ]
  },
  {
   "cell_type": "code",
   "execution_count": 12,
   "id": "0774ac8a",
   "metadata": {},
   "outputs": [],
   "source": [
    "from keras.models import Sequential\n",
    "from keras.layers import Dense, Embedding\n",
    "from keras.layers import LSTM"
   ]
  },
  {
   "cell_type": "code",
   "execution_count": 13,
   "id": "76bd7521",
   "metadata": {},
   "outputs": [],
   "source": [
    "model = Sequential()"
   ]
  },
  {
   "cell_type": "code",
   "execution_count": 14,
   "id": "aded5349",
   "metadata": {},
   "outputs": [],
   "source": [
    "model.add(Embedding(10000, 128))   # Embedding 層把離散或整數的資料變連續"
   ]
  },
  {
   "cell_type": "code",
   "execution_count": 15,
   "id": "98f68099",
   "metadata": {},
   "outputs": [],
   "source": [
    "model.add(LSTM(150))"
   ]
  },
  {
   "cell_type": "code",
   "execution_count": 16,
   "id": "1b590a79",
   "metadata": {},
   "outputs": [],
   "source": [
    "model.add(Dense(1, activation = 'sigmoid'))"
   ]
  },
  {
   "cell_type": "code",
   "execution_count": 17,
   "id": "1d01d145",
   "metadata": {},
   "outputs": [
    {
     "name": "stdout",
     "output_type": "stream",
     "text": [
      "Model: \"sequential\"\n",
      "_________________________________________________________________\n",
      "Layer (type)                 Output Shape              Param #   \n",
      "=================================================================\n",
      "embedding (Embedding)        (None, None, 128)         1280000   \n",
      "_________________________________________________________________\n",
      "lstm (LSTM)                  (None, 150)               167400    \n",
      "_________________________________________________________________\n",
      "dense (Dense)                (None, 1)                 151       \n",
      "=================================================================\n",
      "Total params: 1,447,551\n",
      "Trainable params: 1,447,551\n",
      "Non-trainable params: 0\n",
      "_________________________________________________________________\n"
     ]
    }
   ],
   "source": [
    "model.summary()"
   ]
  },
  {
   "cell_type": "code",
   "execution_count": 18,
   "id": "9395d8d3",
   "metadata": {},
   "outputs": [
    {
     "data": {
      "text/plain": [
       "167400"
      ]
     },
     "execution_count": 18,
     "metadata": {},
     "output_type": "execute_result"
    }
   ],
   "source": [
    "(3*(128+150+1)*150)  +  ((128+150+1)*150)    #一開始的 3 是有三個來源guest"
   ]
  },
  {
   "cell_type": "code",
   "execution_count": 19,
   "id": "63300332",
   "metadata": {},
   "outputs": [],
   "source": [
    "model.compile(loss = 'binary_crossentropy', optimizer = 'adam', metrics = ['accuracy'])"
   ]
  },
  {
   "cell_type": "code",
   "execution_count": 20,
   "id": "fa756d43",
   "metadata": {},
   "outputs": [
    {
     "name": "stdout",
     "output_type": "stream",
     "text": [
      "Epoch 1/15\n",
      "782/782 [==============================] - 178s 224ms/step - loss: 0.4205 - accuracy: 0.8055\n",
      "Epoch 2/15\n",
      "782/782 [==============================] - 234s 299ms/step - loss: 0.2628 - accuracy: 0.8944\n",
      "Epoch 3/15\n",
      "782/782 [==============================] - 208s 266ms/step - loss: 0.1900 - accuracy: 0.9275\n",
      "Epoch 4/15\n",
      "782/782 [==============================] - 221s 282ms/step - loss: 0.1342 - accuracy: 0.9507\n",
      "Epoch 5/15\n",
      "782/782 [==============================] - 285s 364ms/step - loss: 0.0934 - accuracy: 0.9664\n",
      "Epoch 6/15\n",
      "782/782 [==============================] - 234s 299ms/step - loss: 0.0706 - accuracy: 0.9770\n",
      "Epoch 7/15\n",
      "782/782 [==============================] - 267s 341ms/step - loss: 0.0526 - accuracy: 0.9829\n",
      "Epoch 8/15\n",
      "782/782 [==============================] - 181s 231ms/step - loss: 0.0371 - accuracy: 0.9879\n",
      "Epoch 9/15\n",
      "782/782 [==============================] - 173s 221ms/step - loss: 0.0402 - accuracy: 0.9871\n",
      "Epoch 10/15\n",
      "782/782 [==============================] - 182s 233ms/step - loss: 0.0208 - accuracy: 0.9939\n",
      "Epoch 11/15\n",
      "782/782 [==============================] - 334s 428ms/step - loss: 0.0155 - accuracy: 0.9956\n",
      "Epoch 12/15\n",
      "782/782 [==============================] - 270s 345ms/step - loss: 0.0222 - accuracy: 0.9929\n",
      "Epoch 13/15\n",
      "782/782 [==============================] - 223s 285ms/step - loss: 0.0188 - accuracy: 0.9946\n",
      "Epoch 14/15\n",
      "782/782 [==============================] - 242s 309ms/step - loss: 0.0116 - accuracy: 0.9967\n",
      "Epoch 15/15\n",
      "782/782 [==============================] - 173s 222ms/step - loss: 0.0078 - accuracy: 0.9971\n"
     ]
    },
    {
     "data": {
      "text/plain": [
       "<keras.callbacks.History at 0x7fbb93910e50>"
      ]
     },
     "execution_count": 20,
     "metadata": {},
     "output_type": "execute_result"
    }
   ],
   "source": [
    "model.fit(x_train, y_train, batch_size = 32, epochs = 15)"
   ]
  },
  {
   "cell_type": "code",
   "execution_count": 21,
   "id": "12e8f10f",
   "metadata": {},
   "outputs": [
    {
     "name": "stdout",
     "output_type": "stream",
     "text": [
      "782/782 [==============================] - 49s 61ms/step - loss: 1.0699 - accuracy: 0.8283\n"
     ]
    }
   ],
   "source": [
    "score = model.evaluate(x_test, y_test)"
   ]
  },
  {
   "cell_type": "code",
   "execution_count": 22,
   "id": "a169081c",
   "metadata": {},
   "outputs": [
    {
     "name": "stdout",
     "output_type": "stream",
     "text": [
      "測試資料的loss 1.0699163675308228\n",
      "測試資料的正確率 0.828279972076416\n"
     ]
    }
   ],
   "source": [
    "print('測試資料的loss', score[0])\n",
    "print('測試資料的正確率', score[1])"
   ]
  },
  {
   "cell_type": "code",
   "execution_count": 23,
   "id": "cf602e94",
   "metadata": {},
   "outputs": [],
   "source": [
    "model_json = model.to_json()\n",
    "open('情意分析 with RNN.json', 'w').write(model_json)\n",
    "model.save_weights('情意分析.h5')"
   ]
  },
  {
   "cell_type": "code",
   "execution_count": 24,
   "id": "c64e3e4a",
   "metadata": {},
   "outputs": [],
   "source": [
    "model.save('情意分析(一起存).h5')"
   ]
  },
  {
   "cell_type": "code",
   "execution_count": null,
   "id": "6da1305d",
   "metadata": {},
   "outputs": [],
   "source": []
  }
 ],
 "metadata": {
  "kernelspec": {
   "display_name": "Python 3",
   "language": "python",
   "name": "python3"
  },
  "language_info": {
   "codemirror_mode": {
    "name": "ipython",
    "version": 3
   },
   "file_extension": ".py",
   "mimetype": "text/x-python",
   "name": "python",
   "nbconvert_exporter": "python",
   "pygments_lexer": "ipython3",
   "version": "3.8.8"
  }
 },
 "nbformat": 4,
 "nbformat_minor": 5
}
