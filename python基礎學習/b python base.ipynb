{
 "cells": [
  {
   "cell_type": "markdown",
   "id": "184b662a",
   "metadata": {},
   "source": [
    "# input 指令\n",
    "## 由使用者輸入"
   ]
  },
  {
   "cell_type": "code",
   "execution_count": 3,
   "id": "3f63df4c",
   "metadata": {},
   "outputs": [
    {
     "name": "stdout",
     "output_type": "stream",
     "text": [
      "輸入地方林口\n"
     ]
    }
   ],
   "source": [
    "place = input('輸入地方')"
   ]
  },
  {
   "cell_type": "code",
   "execution_count": 6,
   "id": "f0d7a467",
   "metadata": {},
   "outputs": [
    {
     "name": "stdout",
     "output_type": "stream",
     "text": [
      "輸入使用者名Kathrine\n"
     ]
    }
   ],
   "source": [
    "name = input('輸入使用者名')"
   ]
  },
  {
   "cell_type": "code",
   "execution_count": 15,
   "id": "156d6506",
   "metadata": {},
   "outputs": [],
   "source": [
    "message = '哈囉～{}的{}'.format(place,name)"
   ]
  },
  {
   "cell_type": "code",
   "execution_count": 16,
   "id": "079a7f0f",
   "metadata": {},
   "outputs": [
    {
     "name": "stdout",
     "output_type": "stream",
     "text": [
      "哈囉～林口的Kathrine\n"
     ]
    }
   ],
   "source": [
    "print(message)"
   ]
  },
  {
   "cell_type": "markdown",
   "id": "08d86b0a",
   "metadata": {},
   "source": [
    "# 基本條件判斷"
   ]
  },
  {
   "cell_type": "code",
   "execution_count": 5,
   "id": "a48a9b91",
   "metadata": {},
   "outputs": [],
   "source": [
    "a = 5"
   ]
  },
  {
   "cell_type": "code",
   "execution_count": 6,
   "id": "dbcd290e",
   "metadata": {},
   "outputs": [
    {
     "data": {
      "text/plain": [
       "False"
      ]
     },
     "execution_count": 6,
     "metadata": {},
     "output_type": "execute_result"
    }
   ],
   "source": [
    "a > 10"
   ]
  },
  {
   "cell_type": "code",
   "execution_count": 7,
   "id": "822c9d4b",
   "metadata": {},
   "outputs": [
    {
     "data": {
      "text/plain": [
       "True"
      ]
     },
     "execution_count": 7,
     "metadata": {},
     "output_type": "execute_result"
    }
   ],
   "source": [
    "a < 10"
   ]
  },
  {
   "cell_type": "code",
   "execution_count": 8,
   "id": "9d226ee8",
   "metadata": {},
   "outputs": [
    {
     "data": {
      "text/plain": [
       "True"
      ]
     },
     "execution_count": 8,
     "metadata": {},
     "output_type": "execute_result"
    }
   ],
   "source": [
    "a == 5"
   ]
  },
  {
   "cell_type": "markdown",
   "id": "42d01fee",
   "metadata": {},
   "source": [
    "# 不等於"
   ]
  },
  {
   "cell_type": "code",
   "execution_count": 9,
   "id": "ec180ba8",
   "metadata": {},
   "outputs": [
    {
     "data": {
      "text/plain": [
       "False"
      ]
     },
     "execution_count": 9,
     "metadata": {},
     "output_type": "execute_result"
    }
   ],
   "source": [
    "a != 5"
   ]
  },
  {
   "cell_type": "markdown",
   "id": "74bc9145",
   "metadata": {},
   "source": [
    "# and & or"
   ]
  },
  {
   "cell_type": "code",
   "execution_count": 10,
   "id": "33ea7177",
   "metadata": {},
   "outputs": [
    {
     "data": {
      "text/plain": [
       "True"
      ]
     },
     "execution_count": 10,
     "metadata": {},
     "output_type": "execute_result"
    }
   ],
   "source": [
    "(a>2) and (a<10)"
   ]
  },
  {
   "cell_type": "code",
   "execution_count": 11,
   "id": "ae84587f",
   "metadata": {},
   "outputs": [
    {
     "data": {
      "text/plain": [
       "True"
      ]
     },
     "execution_count": 11,
     "metadata": {},
     "output_type": "execute_result"
    }
   ],
   "source": [
    "(a>2) or (a>10)"
   ]
  },
  {
   "cell_type": "markdown",
   "id": "87898bb6",
   "metadata": {},
   "source": [
    "# 迴圈"
   ]
  },
  {
   "cell_type": "markdown",
   "id": "787e2ef9",
   "metadata": {},
   "source": [
    "while 條件:  \n",
    "----下一行會縮排（四個空格）"
   ]
  },
  {
   "cell_type": "code",
   "execution_count": 1,
   "id": "b788c468",
   "metadata": {},
   "outputs": [
    {
     "name": "stdout",
     "output_type": "stream",
     "text": [
      "fail\n",
      "fail\n",
      "fail\n",
      "fail\n",
      "fail\n",
      "fail\n",
      "fail\n",
      "fail\n",
      "fail\n"
     ]
    }
   ],
   "source": [
    "s = 1\n",
    "while s < 10:\n",
    "    print('fail')\n",
    "    s = s+1"
   ]
  },
  {
   "cell_type": "markdown",
   "id": "0cecd993",
   "metadata": {},
   "source": [
    "### 函數\n",
    "def 函數名稱（變數）:  \n",
    "----return函數內容（縮排）  \n",
    "- 用return是回傳數字  \n",
    "- 有時可直接用print知道結果但無法用在迴圈上  \n",
    "- note:函數和變數可以是中文"
   ]
  },
  {
   "cell_type": "code",
   "execution_count": 17,
   "id": "a316447c",
   "metadata": {},
   "outputs": [],
   "source": [
    "def square(x):\n",
    "    return x**2"
   ]
  },
  {
   "cell_type": "code",
   "execution_count": 18,
   "id": "8642a465",
   "metadata": {},
   "outputs": [
    {
     "data": {
      "text/plain": [
       "49"
      ]
     },
     "execution_count": 18,
     "metadata": {},
     "output_type": "execute_result"
    }
   ],
   "source": [
    "square(7)"
   ]
  },
  {
   "cell_type": "code",
   "execution_count": 19,
   "id": "359d0fd3",
   "metadata": {},
   "outputs": [],
   "source": [
    "def 函數(甲):\n",
    "    return 甲**3"
   ]
  },
  {
   "cell_type": "code",
   "execution_count": 20,
   "id": "a2884a3b",
   "metadata": {},
   "outputs": [
    {
     "data": {
      "text/plain": [
       "343"
      ]
     },
     "execution_count": 20,
     "metadata": {},
     "output_type": "execute_result"
    }
   ],
   "source": [
    "函數(7)"
   ]
  },
  {
   "cell_type": "code",
   "execution_count": 24,
   "id": "53bcbe89",
   "metadata": {},
   "outputs": [],
   "source": [
    "name = '多喜'\n",
    "place = '林口'"
   ]
  },
  {
   "cell_type": "code",
   "execution_count": 29,
   "id": "fdf7aca0",
   "metadata": {},
   "outputs": [],
   "source": [
    "message = '哈囉～{}的{}'.format(place,name)"
   ]
  },
  {
   "cell_type": "code",
   "execution_count": 30,
   "id": "94d00805",
   "metadata": {},
   "outputs": [
    {
     "data": {
      "text/plain": [
       "'哈囉～林口的多喜'"
      ]
     },
     "execution_count": 30,
     "metadata": {},
     "output_type": "execute_result"
    }
   ],
   "source": [
    "message"
   ]
  },
  {
   "cell_type": "code",
   "execution_count": 31,
   "id": "048a7b50",
   "metadata": {},
   "outputs": [],
   "source": [
    "def say_hi(place,name):\n",
    "    message = '哈囉～{}的{}'.format(place,name)\n",
    "    return message"
   ]
  },
  {
   "cell_type": "code",
   "execution_count": 33,
   "id": "2414dbd7",
   "metadata": {},
   "outputs": [
    {
     "data": {
      "text/plain": [
       "'哈囉～林口的心美'"
      ]
     },
     "execution_count": 33,
     "metadata": {},
     "output_type": "execute_result"
    }
   ],
   "source": [
    "say_hi('林口','心美')"
   ]
  },
  {
   "cell_type": "markdown",
   "id": "9ba1a70f",
   "metadata": {},
   "source": [
    "# for 迴圈  \n",
    "對list做某事  \n",
    "for 物件 in list:  \n",
    "----做某事（縮排）"
   ]
  },
  {
   "cell_type": "code",
   "execution_count": 1,
   "id": "a784101f",
   "metadata": {},
   "outputs": [
    {
     "name": "stdout",
     "output_type": "stream",
     "text": [
      "1\n",
      "2\n",
      "3\n",
      "4\n",
      "5\n"
     ]
    }
   ],
   "source": [
    "L = [1,2,3,4,5]\n",
    "for i in L:\n",
    "    print(i)"
   ]
  },
  {
   "cell_type": "markdown",
   "id": "79fa35f2",
   "metadata": {},
   "source": [
    "# if 條件判斷  \n",
    "- if條件一  \n",
    "- elif條件二  \n",
    "- else其他  "
   ]
  },
  {
   "cell_type": "code",
   "execution_count": 14,
   "id": "92f5d968",
   "metadata": {},
   "outputs": [
    {
     "name": "stdout",
     "output_type": "stream",
     "text": [
      "今天星期幾？ㄧ\n"
     ]
    }
   ],
   "source": [
    "day = input('今天星期幾？')"
   ]
  },
  {
   "cell_type": "code",
   "execution_count": 15,
   "id": "0e5e8ccf",
   "metadata": {},
   "outputs": [
    {
     "name": "stdout",
     "output_type": "stream",
     "text": [
      "今天星期幾？一\n",
      "新的星期～甘巴爹\n"
     ]
    }
   ],
   "source": [
    "day = input('今天星期幾？')\n",
    "if day == '一':\n",
    "    print('新的星期～甘巴爹')\n",
    "elif day == '二':\n",
    "    print('還有很多事不過快了')\n",
    "else:\n",
    "    print('快結束了假期愉快')"
   ]
  },
  {
   "cell_type": "markdown",
   "id": "d9201714",
   "metadata": {},
   "source": [
    "# 亂數做圖"
   ]
  },
  {
   "cell_type": "code",
   "execution_count": 16,
   "id": "c163267b",
   "metadata": {},
   "outputs": [
    {
     "name": "stdout",
     "output_type": "stream",
     "text": [
      "Populating the interactive namespace from numpy and matplotlib\n"
     ]
    }
   ],
   "source": [
    "%pylab inline"
   ]
  },
  {
   "cell_type": "code",
   "execution_count": 17,
   "id": "2501791b",
   "metadata": {},
   "outputs": [
    {
     "data": {
      "text/plain": [
       "36"
      ]
     },
     "execution_count": 17,
     "metadata": {},
     "output_type": "execute_result"
    }
   ],
   "source": [
    "randint(0,51)"
   ]
  },
  {
   "cell_type": "code",
   "execution_count": 23,
   "id": "c8d9e23c",
   "metadata": {},
   "outputs": [
    {
     "name": "stdout",
     "output_type": "stream",
     "text": [
      "                                                            #\n",
      "                                                       #\n",
      "                                                                              #\n",
      "  #\n",
      "                                                                                      #\n",
      "                     #\n",
      "                                                                 #\n",
      "                                                                       #\n",
      "                                                #\n",
      "          #\n",
      "      #\n",
      "                         #\n",
      "                                                                          #\n",
      "                                              #\n",
      "          #\n",
      "    #\n",
      "            #\n",
      "                                                                                        #\n",
      "                                    #\n",
      "                                             #\n",
      "                                                                                          #\n",
      "  #\n",
      "                            #\n",
      "                                                                                         #\n",
      "       #\n",
      "                                   #\n",
      "                                                                                      #\n",
      "                     #\n",
      "                                                                       #\n",
      "                                                                       #\n"
     ]
    }
   ],
   "source": [
    "for i in range(30):\n",
    "    r = randint(0,91)\n",
    "    print(' '*r + '#')"
   ]
  }
 ],
 "metadata": {
  "kernelspec": {
   "display_name": "Python 3",
   "language": "python",
   "name": "python3"
  },
  "language_info": {
   "codemirror_mode": {
    "name": "ipython",
    "version": 3
   },
   "file_extension": ".py",
   "mimetype": "text/x-python",
   "name": "python",
   "nbconvert_exporter": "python",
   "pygments_lexer": "ipython3",
   "version": "3.8.8"
  }
 },
 "nbformat": 4,
 "nbformat_minor": 5
}
