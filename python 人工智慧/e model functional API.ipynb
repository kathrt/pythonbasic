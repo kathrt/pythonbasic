{
 "cells": [
  {
   "cell_type": "code",
   "execution_count": 1,
   "id": "bf90bddd",
   "metadata": {},
   "outputs": [
    {
     "name": "stdout",
     "output_type": "stream",
     "text": [
      "env: KERAS_BACKEND=tensorflow\n"
     ]
    }
   ],
   "source": [
    "%env KERAS_BACKEND = tensorflow"
   ]
  },
  {
   "cell_type": "code",
   "execution_count": 2,
   "id": "fa91ac5b",
   "metadata": {},
   "outputs": [],
   "source": [
    "%matplotlib inline\n",
    "import numpy as np\n",
    "import matplotlib.pyplot as plt"
   ]
  },
  {
   "cell_type": "code",
   "execution_count": 3,
   "id": "85e4bd03",
   "metadata": {},
   "outputs": [],
   "source": [
    "# keras.functions\n",
    "from keras.models import Sequential\n",
    "from keras.layers import Dense, Activation\n",
    "from tensorflow.keras.optimizers import SGD  #notice! use tensorflow.keras.optimizers\n",
    "\n",
    "# keras.dataset\n",
    "from keras.datasets import mnist  # 手寫辨識資料  mnist\n",
    "\n",
    "# keras.utilis function\n",
    "from keras.utils import np_utils    # one-Hot encoding 0 ~ 9 改成向量的 utils"
   ]
  },
  {
   "cell_type": "code",
   "execution_count": 4,
   "id": "fceab359",
   "metadata": {},
   "outputs": [],
   "source": [
    "(x_train, y_train), (x_test, y_test) = mnist.load_data()"
   ]
  },
  {
   "cell_type": "code",
   "execution_count": 5,
   "id": "188e9ed6",
   "metadata": {},
   "outputs": [],
   "source": [
    "x_train = x_train.reshape(60000, 784)  # 矩陣拉平\n",
    "x_test = x_test.reshape(10000, 784)"
   ]
  },
  {
   "cell_type": "code",
   "execution_count": 6,
   "id": "c65d520b",
   "metadata": {},
   "outputs": [
    {
     "name": "stdout",
     "output_type": "stream",
     "text": [
      "(60000, 784) (10000, 784)\n"
     ]
    }
   ],
   "source": [
    "print(x_train.shape, x_test.shape)"
   ]
  },
  {
   "cell_type": "code",
   "execution_count": 7,
   "id": "b4899851",
   "metadata": {},
   "outputs": [],
   "source": [
    "y_train_10 = np_utils.to_categorical(y_train, 10) # one-hot encoding\n",
    "y_test_10 = np_utils.to_categorical(y_test, 10)"
   ]
  },
  {
   "cell_type": "markdown",
   "id": "b78adf33",
   "metadata": {},
   "source": [
    "model functional API 只在意輸入與輸出  \n",
    "當出現:\n",
    "- 多重輸出輸入模型\n",
    "- 分歧\n",
    "- 合併\n",
    "- 具循環, 重複模型"
   ]
  },
  {
   "cell_type": "code",
   "execution_count": 8,
   "id": "45f3f421",
   "metadata": {},
   "outputs": [],
   "source": [
    "from keras.models import Model"
   ]
  },
  {
   "cell_type": "code",
   "execution_count": 9,
   "id": "c07a16d9",
   "metadata": {},
   "outputs": [],
   "source": [
    "from keras.layers import Input"
   ]
  },
  {
   "cell_type": "code",
   "execution_count": 10,
   "id": "25c6e818",
   "metadata": {},
   "outputs": [],
   "source": [
    "f_1 = Dense(500, activation = 'sigmoid')\n",
    "f_2 = Dense(500, activation = 'sigmoid')\n",
    "f_3 = Dense(10, activation = 'softmax')"
   ]
  },
  {
   "cell_type": "code",
   "execution_count": 11,
   "id": "4af0ce26",
   "metadata": {},
   "outputs": [
    {
     "name": "stdout",
     "output_type": "stream",
     "text": [
      "<keras.layers.core.dense.Dense object at 0x7f99c3c9d940>\n"
     ]
    }
   ],
   "source": [
    "print(f_1)"
   ]
  },
  {
   "cell_type": "code",
   "execution_count": 12,
   "id": "f3eab24a",
   "metadata": {},
   "outputs": [],
   "source": [
    "x = Input(shape = (784,))"
   ]
  },
  {
   "cell_type": "code",
   "execution_count": 13,
   "id": "8b1ec063",
   "metadata": {},
   "outputs": [
    {
     "name": "stdout",
     "output_type": "stream",
     "text": [
      "KerasTensor(type_spec=TensorSpec(shape=(None, 784), dtype=tf.float32, name='input_1'), name='input_1', description=\"created by layer 'input_1'\")\n"
     ]
    }
   ],
   "source": [
    "print(x)"
   ]
  },
  {
   "cell_type": "code",
   "execution_count": 14,
   "id": "5c88d38e",
   "metadata": {},
   "outputs": [],
   "source": [
    "h_1 = f_1(x)\n",
    "h_2 = f_2(h_1)\n",
    "y = f_3(h_2)"
   ]
  },
  {
   "cell_type": "code",
   "execution_count": 15,
   "id": "13139dae",
   "metadata": {},
   "outputs": [
    {
     "name": "stdout",
     "output_type": "stream",
     "text": [
      "KerasTensor(type_spec=TensorSpec(shape=(None, 500), dtype=tf.float32, name=None), name='dense/Sigmoid:0', description=\"created by layer 'dense'\")\n",
      "KerasTensor(type_spec=TensorSpec(shape=(None, 500), dtype=tf.float32, name=None), name='dense_1/Sigmoid:0', description=\"created by layer 'dense_1'\")\n",
      "KerasTensor(type_spec=TensorSpec(shape=(None, 10), dtype=tf.float32, name=None), name='dense_2/Softmax:0', description=\"created by layer 'dense_2'\")\n"
     ]
    }
   ],
   "source": [
    "print(h_1)\n",
    "print(h_2)\n",
    "print(y)"
   ]
  },
  {
   "cell_type": "code",
   "execution_count": 16,
   "id": "fd5f6602",
   "metadata": {},
   "outputs": [
    {
     "name": "stdout",
     "output_type": "stream",
     "text": [
      "Model: \"model\"\n",
      "_________________________________________________________________\n",
      "Layer (type)                 Output Shape              Param #   \n",
      "=================================================================\n",
      "input_1 (InputLayer)         [(None, 784)]             0         \n",
      "_________________________________________________________________\n",
      "dense (Dense)                (None, 500)               392500    \n",
      "_________________________________________________________________\n",
      "dense_1 (Dense)              (None, 500)               250500    \n",
      "_________________________________________________________________\n",
      "dense_2 (Dense)              (None, 10)                5010      \n",
      "=================================================================\n",
      "Total params: 648,010\n",
      "Trainable params: 648,010\n",
      "Non-trainable params: 0\n",
      "_________________________________________________________________\n"
     ]
    }
   ],
   "source": [
    "model = Model(x, y) # 把模型包裝\n",
    "model.summary()    # Activation 在 Dense 裡面"
   ]
  },
  {
   "cell_type": "code",
   "execution_count": 17,
   "id": "cf5d4f6a",
   "metadata": {},
   "outputs": [],
   "source": [
    "model.compile(loss = 'mse', optimizer = SGD(learning_rate= 0.1), metrics = ['accuracy'])"
   ]
  },
  {
   "cell_type": "code",
   "execution_count": 18,
   "id": "318cef93",
   "metadata": {},
   "outputs": [
    {
     "name": "stdout",
     "output_type": "stream",
     "text": [
      "Epoch 1/5\n",
      "600/600 [==============================] - 9s 13ms/step - loss: 27.3048 - accuracy: 0.0918\n",
      "Epoch 2/5\n",
      "600/600 [==============================] - 6s 11ms/step - loss: 27.3046 - accuracy: 0.0905\n",
      "Epoch 3/5\n",
      "600/600 [==============================] - 7s 12ms/step - loss: 27.3046 - accuracy: 0.0923\n",
      "Epoch 4/5\n",
      "600/600 [==============================] - 7s 12ms/step - loss: 27.3046 - accuracy: 0.0944\n",
      "Epoch 5/5\n",
      "600/600 [==============================] - 7s 12ms/step - loss: 27.3046 - accuracy: 0.0964\n"
     ]
    },
    {
     "data": {
      "text/plain": [
       "<keras.callbacks.History at 0x7f99b040fd90>"
      ]
     },
     "execution_count": 18,
     "metadata": {},
     "output_type": "execute_result"
    }
   ],
   "source": [
    "model.fit(x_train, y_train, batch_size = 100, epochs = 5)"
   ]
  },
  {
   "cell_type": "code",
   "execution_count": 19,
   "id": "3f29133f",
   "metadata": {},
   "outputs": [],
   "source": [
    "model.load_weights('手寫辨識.h5')"
   ]
  },
  {
   "cell_type": "code",
   "execution_count": 20,
   "id": "13ba5088",
   "metadata": {},
   "outputs": [
    {
     "name": "stdout",
     "output_type": "stream",
     "text": [
      "313/313 [==============================] - 2s 5ms/step - loss: 27.3213 - accuracy: 0.9312\n"
     ]
    },
    {
     "data": {
      "text/plain": [
       "[27.321250915527344, 0.9312000274658203]"
      ]
     },
     "execution_count": 20,
     "metadata": {},
     "output_type": "execute_result"
    }
   ],
   "source": [
    "model.evaluate(x_test, y_test)"
   ]
  },
  {
   "cell_type": "markdown",
   "id": "1b4fe9bb",
   "metadata": {},
   "source": [
    "###### summary\n",
    "---------------\n",
    "model functional API 操作流程  \n",
    "1. 將層定義成明確的函數\n",
    "2. 透過層函數將變數連接\n",
    "3. 定義神經網路的輸入與輸出"
   ]
  },
  {
   "cell_type": "code",
   "execution_count": 21,
   "id": "dc965f40",
   "metadata": {},
   "outputs": [],
   "source": [
    "from keras.layers import concatenate, add  # 合併結構"
   ]
  },
  {
   "cell_type": "code",
   "execution_count": 22,
   "id": "2367b88d",
   "metadata": {},
   "outputs": [],
   "source": [
    "f_4 = Dense(500, activation = ('relu'))\n",
    "z = f_4(h_1)\n",
    "\n",
    "# new f_3\n",
    "f_3 = Dense(10, activation = ('softmax'))"
   ]
  },
  {
   "cell_type": "code",
   "execution_count": 23,
   "id": "ca36e29a",
   "metadata": {},
   "outputs": [],
   "source": [
    "u = concatenate([h_2, z])  # 多個獨立分歧的層給包起來\n",
    "y = f_3(u)"
   ]
  },
  {
   "cell_type": "code",
   "execution_count": 24,
   "id": "f7bb80a5",
   "metadata": {},
   "outputs": [
    {
     "name": "stdout",
     "output_type": "stream",
     "text": [
      "KerasTensor(type_spec=TensorSpec(shape=(None, 1000), dtype=tf.float32, name=None), name='concatenate/concat:0', description=\"created by layer 'concatenate'\")\n",
      "KerasTensor(type_spec=TensorSpec(shape=(None, 10), dtype=tf.float32, name=None), name='dense_4/Softmax:0', description=\"created by layer 'dense_4'\")\n"
     ]
    }
   ],
   "source": [
    "print(u)\n",
    "print(y)"
   ]
  },
  {
   "cell_type": "code",
   "execution_count": 25,
   "id": "3492b9d6",
   "metadata": {},
   "outputs": [
    {
     "name": "stdout",
     "output_type": "stream",
     "text": [
      "Model: \"model_1\"\n",
      "__________________________________________________________________________________________________\n",
      "Layer (type)                    Output Shape         Param #     Connected to                     \n",
      "==================================================================================================\n",
      "input_1 (InputLayer)            [(None, 784)]        0           []                               \n",
      "__________________________________________________________________________________________________\n",
      "dense (Dense)                   (None, 500)          392500      ['input_1[0][0]']                \n",
      "__________________________________________________________________________________________________\n",
      "dense_1 (Dense)                 (None, 500)          250500      ['dense[0][0]']                  \n",
      "__________________________________________________________________________________________________\n",
      "dense_3 (Dense)                 (None, 500)          250500      ['dense[0][0]']                  \n",
      "__________________________________________________________________________________________________\n",
      "concatenate (Concatenate)       (None, 1000)         0           ['dense_1[0][0]',                \n",
      "                                                                  'dense_3[0][0]']                \n",
      "__________________________________________________________________________________________________\n",
      "dense_4 (Dense)                 (None, 10)           10010       ['concatenate[0][0]']            \n",
      "==================================================================================================\n",
      "Total params: 903,510\n",
      "Trainable params: 903,510\n",
      "Non-trainable params: 0\n",
      "__________________________________________________________________________________________________\n"
     ]
    }
   ],
   "source": [
    "model = Model(x, y)\n",
    "model.summary()"
   ]
  },
  {
   "cell_type": "markdown",
   "id": "c124a20e",
   "metadata": {},
   "source": [
    "### 自定義的不具可訓練權重之神經網路層"
   ]
  },
  {
   "cell_type": "code",
   "execution_count": 26,
   "id": "b5863cb6",
   "metadata": {},
   "outputs": [],
   "source": [
    "from keras.layers.core import Lambda\n",
    "from keras import backend as K"
   ]
  },
  {
   "cell_type": "code",
   "execution_count": 27,
   "id": "079b88a5",
   "metadata": {},
   "outputs": [],
   "source": [
    "def average_function(inputs):   # 對輸入取平均\n",
    "    return K.mean(inputs, axis = 1)"
   ]
  },
  {
   "cell_type": "code",
   "execution_count": 28,
   "id": "977b23f9",
   "metadata": {},
   "outputs": [],
   "source": [
    "average_layer = Lambda(average_function)"
   ]
  },
  {
   "cell_type": "code",
   "execution_count": 29,
   "id": "add8d87a",
   "metadata": {},
   "outputs": [
    {
     "name": "stdout",
     "output_type": "stream",
     "text": [
      "<keras.layers.core.lambda_layer.Lambda object at 0x7f99cc5f3670>\n"
     ]
    }
   ],
   "source": [
    "print(average_layer)"
   ]
  },
  {
   "cell_type": "code",
   "execution_count": 30,
   "id": "3e51a924",
   "metadata": {},
   "outputs": [],
   "source": [
    "inputSize = 4  # 輸入四維向量\n",
    "x = Input(shape = (inputSize, ))\n",
    "y = average_layer(x)\n",
    "average_model = Model(x, y)"
   ]
  },
  {
   "cell_type": "code",
   "execution_count": 31,
   "id": "0ff145f1",
   "metadata": {},
   "outputs": [
    {
     "name": "stdout",
     "output_type": "stream",
     "text": [
      "Model: \"model_2\"\n",
      "_________________________________________________________________\n",
      "Layer (type)                 Output Shape              Param #   \n",
      "=================================================================\n",
      "input_2 (InputLayer)         [(None, 4)]               0         \n",
      "_________________________________________________________________\n",
      "lambda (Lambda)              (None,)                   0         \n",
      "=================================================================\n",
      "Total params: 0\n",
      "Trainable params: 0\n",
      "Non-trainable params: 0\n",
      "_________________________________________________________________\n"
     ]
    }
   ],
   "source": [
    "average_model.summary()"
   ]
  },
  {
   "cell_type": "code",
   "execution_count": 32,
   "id": "87c80093",
   "metadata": {},
   "outputs": [],
   "source": [
    "average_model.compile(loss = 'mse', optimizer = 'sgd')"
   ]
  },
  {
   "cell_type": "code",
   "execution_count": 33,
   "id": "8e1bb993",
   "metadata": {},
   "outputs": [
    {
     "data": {
      "text/plain": [
       "(1, 4)"
      ]
     },
     "execution_count": 33,
     "metadata": {},
     "output_type": "execute_result"
    }
   ],
   "source": [
    "np.array([[1, 2, 3, 4]]).shape  # 不是表示四維的向量而是表示一筆四維的向量(1, 4)"
   ]
  },
  {
   "cell_type": "code",
   "execution_count": 34,
   "id": "aa34410e",
   "metadata": {},
   "outputs": [
    {
     "data": {
      "text/plain": [
       "array([2.5], dtype=float32)"
      ]
     },
     "execution_count": 34,
     "metadata": {},
     "output_type": "execute_result"
    }
   ],
   "source": [
    "average_model.predict(np.array([[1, 2, 3, 4]]))"
   ]
  },
  {
   "cell_type": "code",
   "execution_count": 35,
   "id": "a1301bb7",
   "metadata": {},
   "outputs": [
    {
     "data": {
      "text/plain": [
       "array([2.5, 1. ], dtype=float32)"
      ]
     },
     "execution_count": 35,
     "metadata": {},
     "output_type": "execute_result"
    }
   ],
   "source": [
    "average_model.predict(np.array([[1, 2, 3, 4], [1, 1, 1, 1]]))"
   ]
  },
  {
   "cell_type": "markdown",
   "id": "a16b5d49",
   "metadata": {},
   "source": [
    "具有抽樣功能的神經網路層"
   ]
  },
  {
   "cell_type": "code",
   "execution_count": 36,
   "id": "3ce2813e",
   "metadata": {},
   "outputs": [],
   "source": [
    "sampling_dim = 2\n",
    "\n",
    "def sampling(args):  # 此為抽樣函數: 使用常態分配之線性特性\n",
    "    z_mean, z_log_var = args\n",
    "    epsilon = K.random_normal(shape = (sampling_dim, ), mean = 0., stddev = 1)\n",
    "    return z_mean + K.exp(z_log_var / 2) * epsilon"
   ]
  },
  {
   "cell_type": "code",
   "execution_count": 37,
   "id": "8d5135df",
   "metadata": {},
   "outputs": [],
   "source": [
    "sample_layer = Lambda(sampling, output_shape = (sampling_dim, ))"
   ]
  },
  {
   "cell_type": "code",
   "execution_count": 38,
   "id": "29ea8656",
   "metadata": {},
   "outputs": [
    {
     "name": "stdout",
     "output_type": "stream",
     "text": [
      "Model: \"model_3\"\n",
      "__________________________________________________________________________________________________\n",
      "Layer (type)                    Output Shape         Param #     Connected to                     \n",
      "==================================================================================================\n",
      "input_3 (InputLayer)            [(None, 2)]          0           []                               \n",
      "__________________________________________________________________________________________________\n",
      "input_4 (InputLayer)            [(None, 2)]          0           []                               \n",
      "__________________________________________________________________________________________________\n",
      "lambda_1 (Lambda)               (None, 2)            0           ['input_3[0][0]',                \n",
      "                                                                  'input_4[0][0]']                \n",
      "==================================================================================================\n",
      "Total params: 0\n",
      "Trainable params: 0\n",
      "Non-trainable params: 0\n",
      "__________________________________________________________________________________________________\n"
     ]
    }
   ],
   "source": [
    "# 多重輸入模型\n",
    "m = Input(shape = (sampling_dim, ))\n",
    "s = Input(shape = (sampling_dim, ))\n",
    "z = sample_layer([m, s])   # Lambda 可以使用 list 包裝\n",
    "\n",
    "sample_model = Model([m, s], z)\n",
    "sample_model.summary()"
   ]
  },
  {
   "cell_type": "code",
   "execution_count": 39,
   "id": "1437fb4d",
   "metadata": {},
   "outputs": [
    {
     "name": "stdout",
     "output_type": "stream",
     "text": [
      "平均為(5, 0)\n"
     ]
    }
   ],
   "source": [
    "test_mean = np.random.randint(10, size = sampling_dim).reshape(1, 2)\n",
    "test_log_var = np.array([[0, 0]])\n",
    "\n",
    "print('平均為(%d, %d)'%(test_mean[0][0], test_mean[0][1]))"
   ]
  },
  {
   "cell_type": "code",
   "execution_count": 40,
   "id": "cdc339be",
   "metadata": {},
   "outputs": [
    {
     "data": {
      "text/plain": [
       "array([[4.9340277 , 0.15394434]], dtype=float32)"
      ]
     },
     "execution_count": 40,
     "metadata": {},
     "output_type": "execute_result"
    }
   ],
   "source": [
    "sample_model.predict([test_mean, test_log_var])"
   ]
  },
  {
   "cell_type": "markdown",
   "id": "5dd4b9a3",
   "metadata": {},
   "source": [
    "和 numpy 上的抽樣函數做比較"
   ]
  },
  {
   "cell_type": "code",
   "execution_count": 41,
   "id": "357d18de",
   "metadata": {},
   "outputs": [],
   "source": [
    "num_of_samples = 100"
   ]
  },
  {
   "cell_type": "code",
   "execution_count": 42,
   "id": "e2a160d7",
   "metadata": {},
   "outputs": [],
   "source": [
    "np_sample = np.random.multivariate_normal(test_mean[0], np.identity(2), size = num_of_samples)"
   ]
  },
  {
   "cell_type": "code",
   "execution_count": 43,
   "id": "3c0a3d5a",
   "metadata": {},
   "outputs": [],
   "source": [
    "keras_sample = np.zeros((num_of_samples, 2))\n",
    "for i in range(num_of_samples):\n",
    "    keras_sample[i] = sample_model.predict([test_mean, test_log_var])"
   ]
  },
  {
   "cell_type": "code",
   "execution_count": 45,
   "id": "1c44b29d",
   "metadata": {},
   "outputs": [
    {
     "data": {
      "text/plain": [
       "Text(0.5, 1.0, 'Normal Random Samples using Keras/ Numpy')"
      ]
     },
     "execution_count": 45,
     "metadata": {},
     "output_type": "execute_result"
    },
    {
     "data": {
      "image/png": "[encoded data removed]",
      "text/plain": [
       "<Figure size 432x288 with 1 Axes>"
      ]
     },
     "metadata": {
      "needs_background": "light"
     },
     "output_type": "display_data"
    }
   ],
   "source": [
    "plt.plot(keras_sample[:, 0], keras_sample[:, 1], 'ro')\n",
    "plt.plot(np_sample[:, 0], np_sample[:, 1], 'o')\n",
    "plt.legend(['Keras', 'Numpy'])\n",
    "plt.title('Normal Random Samples using Keras/ Numpy')"
   ]
  },
  {
   "cell_type": "code",
   "execution_count": null,
   "id": "8bd84cac",
   "metadata": {},
   "outputs": [],
   "source": []
  }
 ],
 "metadata": {
  "kernelspec": {
   "display_name": "Python 3",
   "language": "python",
   "name": "python3"
  },
  "language_info": {
   "codemirror_mode": {
    "name": "ipython",
    "version": 3
   },
   "file_extension": ".py",
   "mimetype": "text/x-python",
   "name": "python",
   "nbconvert_exporter": "python",
   "pygments_lexer": "ipython3",
   "version": "3.8.8"
  }
 },
 "nbformat": 4,
 "nbformat_minor": 5
}
